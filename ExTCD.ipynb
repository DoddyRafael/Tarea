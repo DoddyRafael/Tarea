{
 "cells": [
  {
   "cell_type": "code",
   "execution_count": 1,
   "metadata": {},
   "outputs": [],
   "source": [
    "import pandas as pd\n",
    "import numpy as np\n",
    "import matplotlib.pyplot as plt\n",
    "import bokeh.plotting as bpl"
   ]
  },
  {
   "cell_type": "code",
   "execution_count": 2,
   "metadata": {},
   "outputs": [
    {
     "data": {
      "text/html": [
       "\n",
       "    <div class=\"bk-root\">\n",
       "        <a href=\"https://bokeh.org\" target=\"_blank\" class=\"bk-logo bk-logo-small bk-logo-notebook\"></a>\n",
       "        <span id=\"1001\">Loading BokehJS ...</span>\n",
       "    </div>"
      ]
     },
     "metadata": {},
     "output_type": "display_data"
    },
    {
     "data": {
      "application/javascript": [
       "\n",
       "(function(root) {\n",
       "  function now() {\n",
       "    return new Date();\n",
       "  }\n",
       "\n",
       "  var force = true;\n",
       "\n",
       "  if (typeof root._bokeh_onload_callbacks === \"undefined\" || force === true) {\n",
       "    root._bokeh_onload_callbacks = [];\n",
       "    root._bokeh_is_loading = undefined;\n",
       "  }\n",
       "\n",
       "  var JS_MIME_TYPE = 'application/javascript';\n",
       "  var HTML_MIME_TYPE = 'text/html';\n",
       "  var EXEC_MIME_TYPE = 'application/vnd.bokehjs_exec.v0+json';\n",
       "  var CLASS_NAME = 'output_bokeh rendered_html';\n",
       "\n",
       "  /**\n",
       "   * Render data to the DOM node\n",
       "   */\n",
       "  function render(props, node) {\n",
       "    var script = document.createElement(\"script\");\n",
       "    node.appendChild(script);\n",
       "  }\n",
       "\n",
       "  /**\n",
       "   * Handle when an output is cleared or removed\n",
       "   */\n",
       "  function handleClearOutput(event, handle) {\n",
       "    var cell = handle.cell;\n",
       "\n",
       "    var id = cell.output_area._bokeh_element_id;\n",
       "    var server_id = cell.output_area._bokeh_server_id;\n",
       "    // Clean up Bokeh references\n",
       "    if (id != null && id in Bokeh.index) {\n",
       "      Bokeh.index[id].model.document.clear();\n",
       "      delete Bokeh.index[id];\n",
       "    }\n",
       "\n",
       "    if (server_id !== undefined) {\n",
       "      // Clean up Bokeh references\n",
       "      var cmd = \"from bokeh.io.state import curstate; print(curstate().uuid_to_server['\" + server_id + \"'].get_sessions()[0].document.roots[0]._id)\";\n",
       "      cell.notebook.kernel.execute(cmd, {\n",
       "        iopub: {\n",
       "          output: function(msg) {\n",
       "            var id = msg.content.text.trim();\n",
       "            if (id in Bokeh.index) {\n",
       "              Bokeh.index[id].model.document.clear();\n",
       "              delete Bokeh.index[id];\n",
       "            }\n",
       "          }\n",
       "        }\n",
       "      });\n",
       "      // Destroy server and session\n",
       "      var cmd = \"import bokeh.io.notebook as ion; ion.destroy_server('\" + server_id + \"')\";\n",
       "      cell.notebook.kernel.execute(cmd);\n",
       "    }\n",
       "  }\n",
       "\n",
       "  /**\n",
       "   * Handle when a new output is added\n",
       "   */\n",
       "  function handleAddOutput(event, handle) {\n",
       "    var output_area = handle.output_area;\n",
       "    var output = handle.output;\n",
       "\n",
       "    // limit handleAddOutput to display_data with EXEC_MIME_TYPE content only\n",
       "    if ((output.output_type != \"display_data\") || (!output.data.hasOwnProperty(EXEC_MIME_TYPE))) {\n",
       "      return\n",
       "    }\n",
       "\n",
       "    var toinsert = output_area.element.find(\".\" + CLASS_NAME.split(' ')[0]);\n",
       "\n",
       "    if (output.metadata[EXEC_MIME_TYPE][\"id\"] !== undefined) {\n",
       "      toinsert[toinsert.length - 1].firstChild.textContent = output.data[JS_MIME_TYPE];\n",
       "      // store reference to embed id on output_area\n",
       "      output_area._bokeh_element_id = output.metadata[EXEC_MIME_TYPE][\"id\"];\n",
       "    }\n",
       "    if (output.metadata[EXEC_MIME_TYPE][\"server_id\"] !== undefined) {\n",
       "      var bk_div = document.createElement(\"div\");\n",
       "      bk_div.innerHTML = output.data[HTML_MIME_TYPE];\n",
       "      var script_attrs = bk_div.children[0].attributes;\n",
       "      for (var i = 0; i < script_attrs.length; i++) {\n",
       "        toinsert[toinsert.length - 1].firstChild.setAttribute(script_attrs[i].name, script_attrs[i].value);\n",
       "      }\n",
       "      // store reference to server id on output_area\n",
       "      output_area._bokeh_server_id = output.metadata[EXEC_MIME_TYPE][\"server_id\"];\n",
       "    }\n",
       "  }\n",
       "\n",
       "  function register_renderer(events, OutputArea) {\n",
       "\n",
       "    function append_mime(data, metadata, element) {\n",
       "      // create a DOM node to render to\n",
       "      var toinsert = this.create_output_subarea(\n",
       "        metadata,\n",
       "        CLASS_NAME,\n",
       "        EXEC_MIME_TYPE\n",
       "      );\n",
       "      this.keyboard_manager.register_events(toinsert);\n",
       "      // Render to node\n",
       "      var props = {data: data, metadata: metadata[EXEC_MIME_TYPE]};\n",
       "      render(props, toinsert[toinsert.length - 1]);\n",
       "      element.append(toinsert);\n",
       "      return toinsert\n",
       "    }\n",
       "\n",
       "    /* Handle when an output is cleared or removed */\n",
       "    events.on('clear_output.CodeCell', handleClearOutput);\n",
       "    events.on('delete.Cell', handleClearOutput);\n",
       "\n",
       "    /* Handle when a new output is added */\n",
       "    events.on('output_added.OutputArea', handleAddOutput);\n",
       "\n",
       "    /**\n",
       "     * Register the mime type and append_mime function with output_area\n",
       "     */\n",
       "    OutputArea.prototype.register_mime_type(EXEC_MIME_TYPE, append_mime, {\n",
       "      /* Is output safe? */\n",
       "      safe: true,\n",
       "      /* Index of renderer in `output_area.display_order` */\n",
       "      index: 0\n",
       "    });\n",
       "  }\n",
       "\n",
       "  // register the mime type if in Jupyter Notebook environment and previously unregistered\n",
       "  if (root.Jupyter !== undefined) {\n",
       "    var events = require('base/js/events');\n",
       "    var OutputArea = require('notebook/js/outputarea').OutputArea;\n",
       "\n",
       "    if (OutputArea.prototype.mime_types().indexOf(EXEC_MIME_TYPE) == -1) {\n",
       "      register_renderer(events, OutputArea);\n",
       "    }\n",
       "  }\n",
       "\n",
       "  \n",
       "  if (typeof (root._bokeh_timeout) === \"undefined\" || force === true) {\n",
       "    root._bokeh_timeout = Date.now() + 5000;\n",
       "    root._bokeh_failed_load = false;\n",
       "  }\n",
       "\n",
       "  var NB_LOAD_WARNING = {'data': {'text/html':\n",
       "     \"<div style='background-color: #fdd'>\\n\"+\n",
       "     \"<p>\\n\"+\n",
       "     \"BokehJS does not appear to have successfully loaded. If loading BokehJS from CDN, this \\n\"+\n",
       "     \"may be due to a slow or bad network connection. Possible fixes:\\n\"+\n",
       "     \"</p>\\n\"+\n",
       "     \"<ul>\\n\"+\n",
       "     \"<li>re-rerun `output_notebook()` to attempt to load from CDN again, or</li>\\n\"+\n",
       "     \"<li>use INLINE resources instead, as so:</li>\\n\"+\n",
       "     \"</ul>\\n\"+\n",
       "     \"<code>\\n\"+\n",
       "     \"from bokeh.resources import INLINE\\n\"+\n",
       "     \"output_notebook(resources=INLINE)\\n\"+\n",
       "     \"</code>\\n\"+\n",
       "     \"</div>\"}};\n",
       "\n",
       "  function display_loaded() {\n",
       "    var el = document.getElementById(\"1001\");\n",
       "    if (el != null) {\n",
       "      el.textContent = \"BokehJS is loading...\";\n",
       "    }\n",
       "    if (root.Bokeh !== undefined) {\n",
       "      if (el != null) {\n",
       "        el.textContent = \"BokehJS \" + root.Bokeh.version + \" successfully loaded.\";\n",
       "      }\n",
       "    } else if (Date.now() < root._bokeh_timeout) {\n",
       "      setTimeout(display_loaded, 100)\n",
       "    }\n",
       "  }\n",
       "\n",
       "\n",
       "  function run_callbacks() {\n",
       "    try {\n",
       "      root._bokeh_onload_callbacks.forEach(function(callback) {\n",
       "        if (callback != null)\n",
       "          callback();\n",
       "      });\n",
       "    } finally {\n",
       "      delete root._bokeh_onload_callbacks\n",
       "    }\n",
       "    console.debug(\"Bokeh: all callbacks have finished\");\n",
       "  }\n",
       "\n",
       "  function load_libs(css_urls, js_urls, callback) {\n",
       "    if (css_urls == null) css_urls = [];\n",
       "    if (js_urls == null) js_urls = [];\n",
       "\n",
       "    root._bokeh_onload_callbacks.push(callback);\n",
       "    if (root._bokeh_is_loading > 0) {\n",
       "      console.debug(\"Bokeh: BokehJS is being loaded, scheduling callback at\", now());\n",
       "      return null;\n",
       "    }\n",
       "    if (js_urls == null || js_urls.length === 0) {\n",
       "      run_callbacks();\n",
       "      return null;\n",
       "    }\n",
       "    console.debug(\"Bokeh: BokehJS not loaded, scheduling load and callback at\", now());\n",
       "    root._bokeh_is_loading = css_urls.length + js_urls.length;\n",
       "\n",
       "    function on_load() {\n",
       "      root._bokeh_is_loading--;\n",
       "      if (root._bokeh_is_loading === 0) {\n",
       "        console.debug(\"Bokeh: all BokehJS libraries/stylesheets loaded\");\n",
       "        run_callbacks()\n",
       "      }\n",
       "    }\n",
       "\n",
       "    function on_error() {\n",
       "      console.error(\"failed to load \" + url);\n",
       "    }\n",
       "\n",
       "    for (var i = 0; i < css_urls.length; i++) {\n",
       "      var url = css_urls[i];\n",
       "      const element = document.createElement(\"link\");\n",
       "      element.onload = on_load;\n",
       "      element.onerror = on_error;\n",
       "      element.rel = \"stylesheet\";\n",
       "      element.type = \"text/css\";\n",
       "      element.href = url;\n",
       "      console.debug(\"Bokeh: injecting link tag for BokehJS stylesheet: \", url);\n",
       "      document.body.appendChild(element);\n",
       "    }\n",
       "\n",
       "    for (var i = 0; i < js_urls.length; i++) {\n",
       "      var url = js_urls[i];\n",
       "      var element = document.createElement('script');\n",
       "      element.onload = on_load;\n",
       "      element.onerror = on_error;\n",
       "      element.async = false;\n",
       "      element.src = url;\n",
       "      console.debug(\"Bokeh: injecting script tag for BokehJS library: \", url);\n",
       "      document.head.appendChild(element);\n",
       "    }\n",
       "  };var element = document.getElementById(\"1001\");\n",
       "  if (element == null) {\n",
       "    console.error(\"Bokeh: ERROR: autoload.js configured with elementid '1001' but no matching script tag was found. \")\n",
       "    return false;\n",
       "  }\n",
       "\n",
       "  function inject_raw_css(css) {\n",
       "    const element = document.createElement(\"style\");\n",
       "    element.appendChild(document.createTextNode(css));\n",
       "    document.body.appendChild(element);\n",
       "  }\n",
       "\n",
       "  \n",
       "  var js_urls = [\"https://cdn.pydata.org/bokeh/release/bokeh-1.4.0.min.js\", \"https://cdn.pydata.org/bokeh/release/bokeh-widgets-1.4.0.min.js\", \"https://cdn.pydata.org/bokeh/release/bokeh-tables-1.4.0.min.js\", \"https://cdn.pydata.org/bokeh/release/bokeh-gl-1.4.0.min.js\"];\n",
       "  var css_urls = [];\n",
       "  \n",
       "\n",
       "  var inline_js = [\n",
       "    function(Bokeh) {\n",
       "      Bokeh.set_log_level(\"info\");\n",
       "    },\n",
       "    function(Bokeh) {\n",
       "    \n",
       "    \n",
       "    }\n",
       "  ];\n",
       "\n",
       "  function run_inline_js() {\n",
       "    \n",
       "    if (root.Bokeh !== undefined || force === true) {\n",
       "      \n",
       "    for (var i = 0; i < inline_js.length; i++) {\n",
       "      inline_js[i].call(root, root.Bokeh);\n",
       "    }\n",
       "    if (force === true) {\n",
       "        display_loaded();\n",
       "      }} else if (Date.now() < root._bokeh_timeout) {\n",
       "      setTimeout(run_inline_js, 100);\n",
       "    } else if (!root._bokeh_failed_load) {\n",
       "      console.log(\"Bokeh: BokehJS failed to load within specified timeout.\");\n",
       "      root._bokeh_failed_load = true;\n",
       "    } else if (force !== true) {\n",
       "      var cell = $(document.getElementById(\"1001\")).parents('.cell').data().cell;\n",
       "      cell.output_area.append_execute_result(NB_LOAD_WARNING)\n",
       "    }\n",
       "\n",
       "  }\n",
       "\n",
       "  if (root._bokeh_is_loading === 0) {\n",
       "    console.debug(\"Bokeh: BokehJS loaded, going straight to plotting\");\n",
       "    run_inline_js();\n",
       "  } else {\n",
       "    load_libs(css_urls, js_urls, function() {\n",
       "      console.debug(\"Bokeh: BokehJS plotting callback run at\", now());\n",
       "      run_inline_js();\n",
       "    });\n",
       "  }\n",
       "}(window));"
      ],
      "application/vnd.bokehjs_load.v0+json": "\n(function(root) {\n  function now() {\n    return new Date();\n  }\n\n  var force = true;\n\n  if (typeof root._bokeh_onload_callbacks === \"undefined\" || force === true) {\n    root._bokeh_onload_callbacks = [];\n    root._bokeh_is_loading = undefined;\n  }\n\n  \n\n  \n  if (typeof (root._bokeh_timeout) === \"undefined\" || force === true) {\n    root._bokeh_timeout = Date.now() + 5000;\n    root._bokeh_failed_load = false;\n  }\n\n  var NB_LOAD_WARNING = {'data': {'text/html':\n     \"<div style='background-color: #fdd'>\\n\"+\n     \"<p>\\n\"+\n     \"BokehJS does not appear to have successfully loaded. If loading BokehJS from CDN, this \\n\"+\n     \"may be due to a slow or bad network connection. Possible fixes:\\n\"+\n     \"</p>\\n\"+\n     \"<ul>\\n\"+\n     \"<li>re-rerun `output_notebook()` to attempt to load from CDN again, or</li>\\n\"+\n     \"<li>use INLINE resources instead, as so:</li>\\n\"+\n     \"</ul>\\n\"+\n     \"<code>\\n\"+\n     \"from bokeh.resources import INLINE\\n\"+\n     \"output_notebook(resources=INLINE)\\n\"+\n     \"</code>\\n\"+\n     \"</div>\"}};\n\n  function display_loaded() {\n    var el = document.getElementById(\"1001\");\n    if (el != null) {\n      el.textContent = \"BokehJS is loading...\";\n    }\n    if (root.Bokeh !== undefined) {\n      if (el != null) {\n        el.textContent = \"BokehJS \" + root.Bokeh.version + \" successfully loaded.\";\n      }\n    } else if (Date.now() < root._bokeh_timeout) {\n      setTimeout(display_loaded, 100)\n    }\n  }\n\n\n  function run_callbacks() {\n    try {\n      root._bokeh_onload_callbacks.forEach(function(callback) {\n        if (callback != null)\n          callback();\n      });\n    } finally {\n      delete root._bokeh_onload_callbacks\n    }\n    console.debug(\"Bokeh: all callbacks have finished\");\n  }\n\n  function load_libs(css_urls, js_urls, callback) {\n    if (css_urls == null) css_urls = [];\n    if (js_urls == null) js_urls = [];\n\n    root._bokeh_onload_callbacks.push(callback);\n    if (root._bokeh_is_loading > 0) {\n      console.debug(\"Bokeh: BokehJS is being loaded, scheduling callback at\", now());\n      return null;\n    }\n    if (js_urls == null || js_urls.length === 0) {\n      run_callbacks();\n      return null;\n    }\n    console.debug(\"Bokeh: BokehJS not loaded, scheduling load and callback at\", now());\n    root._bokeh_is_loading = css_urls.length + js_urls.length;\n\n    function on_load() {\n      root._bokeh_is_loading--;\n      if (root._bokeh_is_loading === 0) {\n        console.debug(\"Bokeh: all BokehJS libraries/stylesheets loaded\");\n        run_callbacks()\n      }\n    }\n\n    function on_error() {\n      console.error(\"failed to load \" + url);\n    }\n\n    for (var i = 0; i < css_urls.length; i++) {\n      var url = css_urls[i];\n      const element = document.createElement(\"link\");\n      element.onload = on_load;\n      element.onerror = on_error;\n      element.rel = \"stylesheet\";\n      element.type = \"text/css\";\n      element.href = url;\n      console.debug(\"Bokeh: injecting link tag for BokehJS stylesheet: \", url);\n      document.body.appendChild(element);\n    }\n\n    for (var i = 0; i < js_urls.length; i++) {\n      var url = js_urls[i];\n      var element = document.createElement('script');\n      element.onload = on_load;\n      element.onerror = on_error;\n      element.async = false;\n      element.src = url;\n      console.debug(\"Bokeh: injecting script tag for BokehJS library: \", url);\n      document.head.appendChild(element);\n    }\n  };var element = document.getElementById(\"1001\");\n  if (element == null) {\n    console.error(\"Bokeh: ERROR: autoload.js configured with elementid '1001' but no matching script tag was found. \")\n    return false;\n  }\n\n  function inject_raw_css(css) {\n    const element = document.createElement(\"style\");\n    element.appendChild(document.createTextNode(css));\n    document.body.appendChild(element);\n  }\n\n  \n  var js_urls = [\"https://cdn.pydata.org/bokeh/release/bokeh-1.4.0.min.js\", \"https://cdn.pydata.org/bokeh/release/bokeh-widgets-1.4.0.min.js\", \"https://cdn.pydata.org/bokeh/release/bokeh-tables-1.4.0.min.js\", \"https://cdn.pydata.org/bokeh/release/bokeh-gl-1.4.0.min.js\"];\n  var css_urls = [];\n  \n\n  var inline_js = [\n    function(Bokeh) {\n      Bokeh.set_log_level(\"info\");\n    },\n    function(Bokeh) {\n    \n    \n    }\n  ];\n\n  function run_inline_js() {\n    \n    if (root.Bokeh !== undefined || force === true) {\n      \n    for (var i = 0; i < inline_js.length; i++) {\n      inline_js[i].call(root, root.Bokeh);\n    }\n    if (force === true) {\n        display_loaded();\n      }} else if (Date.now() < root._bokeh_timeout) {\n      setTimeout(run_inline_js, 100);\n    } else if (!root._bokeh_failed_load) {\n      console.log(\"Bokeh: BokehJS failed to load within specified timeout.\");\n      root._bokeh_failed_load = true;\n    } else if (force !== true) {\n      var cell = $(document.getElementById(\"1001\")).parents('.cell').data().cell;\n      cell.output_area.append_execute_result(NB_LOAD_WARNING)\n    }\n\n  }\n\n  if (root._bokeh_is_loading === 0) {\n    console.debug(\"Bokeh: BokehJS loaded, going straight to plotting\");\n    run_inline_js();\n  } else {\n    load_libs(css_urls, js_urls, function() {\n      console.debug(\"Bokeh: BokehJS plotting callback run at\", now());\n      run_inline_js();\n    });\n  }\n}(window));"
     },
     "metadata": {},
     "output_type": "display_data"
    }
   ],
   "source": [
    "bpl.output_notebook()"
   ]
  },
  {
   "cell_type": "raw",
   "metadata": {},
   "source": [
    "La pregunta S4P27_1 cuestiona si se piensa que los jóvenes que escogen una carrera en ciencias tienen mayor oportunidades de obtener empleo. Las respuestas van del 1-5 donde 1-muy de acuerdo y 4-desacuerdo 5-no sé"
   ]
  },
  {
   "cell_type": "code",
   "execution_count": 52,
   "metadata": {},
   "outputs": [],
   "source": [
    "def pregmnivel(pregunta,grado):\n",
    "    '''Función genera el dataframe filtrado por grado academico\n",
    "    que responden a la pregunta, diseñado para las preguntas S4P27_1 Y S4P28_4'''\n",
    "    datos.groupby(['S3P1',pregunta])\n",
    "    return datos.groupby(['S3P1',pregunta])['pFAC'].sum().to_frame().reset_index(level=pregunta).loc[grado]"
   ]
  },
  {
   "cell_type": "code",
   "execution_count": 57,
   "metadata": {},
   "outputs": [],
   "source": [
    "#la columna de grados academicos viene en el primer archivos basico y las preguntas que se analizan son del basico2\n",
    "#se seleccionan solo las columnas de identificación y las requeridas de ambos archivos y se mergen los df\n",
    "datos1 = pd.read_csv('tr_cbasico1.csv',usecols=['CON','V_SEL','S3P1'])\n",
    "datos2 = pd.read_csv('tr_cbasico2.csv',usecols=['CON','V_SEL','S4P27_1','S4P28_4','FAC'])\n",
    "datos = pd.merge(datos1,datos2,on=['CON','V_SEL'])"
   ]
  },
  {
   "cell_type": "code",
   "execution_count": 58,
   "metadata": {},
   "outputs": [],
   "source": [
    "#se obtiene el total de personas por grado academico, se utilizan como norma para cada grado\n",
    "norm = list(datos.groupby(['S3P1'])['FAC'].sum())\n",
    "#se obtiene la lista de los niveles academicos disponibles para iterar sobre ellos\n",
    "niv = list(datos.groupby(['S3P1']).sum().reset_index().S3P1)\n",
    "#se crea la columna de FAC pero porcentual, normaliza por grado academico\n",
    "datos['pFAC'] = datos['FAC']"
   ]
  },
  {
   "cell_type": "code",
   "execution_count": 7,
   "metadata": {},
   "outputs": [
    {
     "name": "stderr",
     "output_type": "stream",
     "text": [
      "/home/doddyrafael/.local/lib/python2.7/site-packages/ipykernel_launcher.py:2: SettingWithCopyWarning: \n",
      "A value is trying to be set on a copy of a slice from a DataFrame\n",
      "\n",
      "See the caveats in the documentation: http://pandas.pydata.org/pandas-docs/stable/indexing.html#indexing-view-versus-copy\n",
      "  \n"
     ]
    }
   ],
   "source": [
    "#se obtiene el FAC porcentual con relación al grado academico\n",
    "for i in niv:\n",
    "    datos.pFAC[datos['S3P1']==i] = datos[datos['S3P1']==i]['FAC']/norm[int(i)-1]*100"
   ]
  },
  {
   "cell_type": "code",
   "execution_count": 56,
   "metadata": {},
   "outputs": [
    {
     "data": {
      "text/html": [
       "\n",
       "\n",
       "\n",
       "\n",
       "\n",
       "\n",
       "  <div class=\"bk-root\" id=\"ee2cb07c-d16e-4e0b-ba71-c9ba24ecee10\" data-root-id=\"13147\"></div>\n"
      ]
     },
     "metadata": {},
     "output_type": "display_data"
    },
    {
     "data": {
      "application/javascript": [
       "(function(root) {\n",
       "  function embed_document(root) {\n",
       "    \n",
       "  var docs_json = {\"011bfef5-f3e1-4afc-96fe-148ef09e6683\":{\"roots\":{\"references\":[{\"attributes\":{\"fill_color\":{\"value\":\"#1f77b4\"},\"line_color\":{\"value\":\"#1f77b4\"},\"top\":{\"value\":100.0},\"width\":{\"value\":0.5},\"x\":{\"value\":3.0}},\"id\":\"13180\",\"type\":\"VBar\"},{\"attributes\":{\"fill_alpha\":{\"value\":0.1},\"fill_color\":{\"value\":\"#1f77b4\"},\"line_alpha\":{\"value\":0.1},\"line_color\":{\"value\":\"#1f77b4\"},\"top\":{\"value\":100.0},\"width\":{\"value\":0.5},\"x\":{\"value\":3.0}},\"id\":\"13181\",\"type\":\"VBar\"},{\"attributes\":{\"data_source\":{\"id\":\"13179\",\"type\":\"ColumnDataSource\"},\"glyph\":{\"id\":\"13180\",\"type\":\"VBar\"},\"hover_glyph\":null,\"muted_glyph\":null,\"nonselection_glyph\":{\"id\":\"13181\",\"type\":\"VBar\"},\"selection_glyph\":null,\"view\":{\"id\":\"13183\",\"type\":\"CDSView\"}},\"id\":\"13182\",\"type\":\"GlyphRenderer\"},{\"attributes\":{\"source\":{\"id\":\"13179\",\"type\":\"ColumnDataSource\"}},\"id\":\"13183\",\"type\":\"CDSView\"},{\"attributes\":{},\"id\":\"13569\",\"type\":\"BasicTickFormatter\"},{\"attributes\":{\"callback\":null},\"id\":\"13148\",\"type\":\"DataRange1d\"},{\"attributes\":{},\"id\":\"13567\",\"type\":\"BasicTickFormatter\"},{\"attributes\":{\"text\":\"\"},\"id\":\"13565\",\"type\":\"Title\"},{\"attributes\":{\"overlay\":{\"id\":\"13572\",\"type\":\"BoxAnnotation\"}},\"id\":\"13168\",\"type\":\"BoxZoomTool\"},{\"attributes\":{},\"id\":\"13169\",\"type\":\"SaveTool\"},{\"attributes\":{},\"id\":\"13162\",\"type\":\"BasicTicker\"},{\"attributes\":{\"ticker\":{\"id\":\"13157\",\"type\":\"BasicTicker\"}},\"id\":\"13160\",\"type\":\"Grid\"},{\"attributes\":{\"formatter\":{\"id\":\"13569\",\"type\":\"BasicTickFormatter\"},\"ticker\":{\"id\":\"13162\",\"type\":\"BasicTicker\"}},\"id\":\"13161\",\"type\":\"LinearAxis\"},{\"attributes\":{},\"id\":\"13166\",\"type\":\"PanTool\"},{\"attributes\":{},\"id\":\"13167\",\"type\":\"WheelZoomTool\"},{\"attributes\":{\"dimension\":1,\"ticker\":{\"id\":\"13162\",\"type\":\"BasicTicker\"}},\"id\":\"13165\",\"type\":\"Grid\"},{\"attributes\":{},\"id\":\"13157\",\"type\":\"BasicTicker\"},{\"attributes\":{\"formatter\":{\"id\":\"13567\",\"type\":\"BasicTickFormatter\"},\"ticker\":{\"id\":\"13157\",\"type\":\"BasicTicker\"}},\"id\":\"13156\",\"type\":\"LinearAxis\"},{\"attributes\":{},\"id\":\"13154\",\"type\":\"LinearScale\"},{\"attributes\":{},\"id\":\"13152\",\"type\":\"LinearScale\"},{\"attributes\":{\"callback\":null},\"id\":\"13150\",\"type\":\"DataRange1d\"},{\"attributes\":{\"below\":[{\"id\":\"13156\",\"type\":\"LinearAxis\"}],\"center\":[{\"id\":\"13160\",\"type\":\"Grid\"},{\"id\":\"13165\",\"type\":\"Grid\"}],\"left\":[{\"id\":\"13161\",\"type\":\"LinearAxis\"}],\"renderers\":[{\"id\":\"13182\",\"type\":\"GlyphRenderer\"}],\"title\":{\"id\":\"13565\",\"type\":\"Title\"},\"toolbar\":{\"id\":\"13172\",\"type\":\"Toolbar\"},\"x_range\":{\"id\":\"13148\",\"type\":\"DataRange1d\"},\"x_scale\":{\"id\":\"13152\",\"type\":\"LinearScale\"},\"y_range\":{\"id\":\"13150\",\"type\":\"DataRange1d\"},\"y_scale\":{\"id\":\"13154\",\"type\":\"LinearScale\"}},\"id\":\"13147\",\"subtype\":\"Figure\",\"type\":\"Plot\"},{\"attributes\":{},\"id\":\"13571\",\"type\":\"UnionRenderers\"},{\"attributes\":{},\"id\":\"13570\",\"type\":\"Selection\"},{\"attributes\":{\"bottom_units\":\"screen\",\"fill_alpha\":{\"value\":0.5},\"fill_color\":{\"value\":\"lightgrey\"},\"left_units\":\"screen\",\"level\":\"overlay\",\"line_alpha\":{\"value\":1.0},\"line_color\":{\"value\":\"black\"},\"line_dash\":[4,4],\"line_width\":{\"value\":2},\"render_mode\":\"css\",\"right_units\":\"screen\",\"top_units\":\"screen\"},\"id\":\"13572\",\"type\":\"BoxAnnotation\"},{\"attributes\":{\"callback\":null,\"data\":{},\"selected\":{\"id\":\"13570\",\"type\":\"Selection\"},\"selection_policy\":{\"id\":\"13571\",\"type\":\"UnionRenderers\"}},\"id\":\"13179\",\"type\":\"ColumnDataSource\"},{\"attributes\":{},\"id\":\"13171\",\"type\":\"HelpTool\"},{\"attributes\":{},\"id\":\"13170\",\"type\":\"ResetTool\"},{\"attributes\":{\"active_drag\":\"auto\",\"active_inspect\":\"auto\",\"active_multi\":null,\"active_scroll\":\"auto\",\"active_tap\":\"auto\",\"tools\":[{\"id\":\"13166\",\"type\":\"PanTool\"},{\"id\":\"13167\",\"type\":\"WheelZoomTool\"},{\"id\":\"13168\",\"type\":\"BoxZoomTool\"},{\"id\":\"13169\",\"type\":\"SaveTool\"},{\"id\":\"13170\",\"type\":\"ResetTool\"},{\"id\":\"13171\",\"type\":\"HelpTool\"}]},\"id\":\"13172\",\"type\":\"Toolbar\"}],\"root_ids\":[\"13147\"]},\"title\":\"Bokeh Application\",\"version\":\"1.4.0\"}};\n",
       "  var render_items = [{\"docid\":\"011bfef5-f3e1-4afc-96fe-148ef09e6683\",\"roots\":{\"13147\":\"ee2cb07c-d16e-4e0b-ba71-c9ba24ecee10\"}}];\n",
       "  root.Bokeh.embed.embed_items_notebook(docs_json, render_items);\n",
       "\n",
       "  }\n",
       "  if (root.Bokeh !== undefined) {\n",
       "    embed_document(root);\n",
       "  } else {\n",
       "    var attempts = 0;\n",
       "    var timer = setInterval(function(root) {\n",
       "      if (root.Bokeh !== undefined) {\n",
       "        clearInterval(timer);\n",
       "        embed_document(root);\n",
       "      } else {\n",
       "        attempts++;\n",
       "        if (attempts > 100) {\n",
       "          clearInterval(timer);\n",
       "          console.log(\"Bokeh: ERROR: Unable to run BokehJS code because BokehJS library is missing\");\n",
       "        }\n",
       "      }\n",
       "    }, 10, root)\n",
       "  }\n",
       "})(window);"
      ],
      "application/vnd.bokehjs_exec.v0+json": ""
     },
     "metadata": {
      "application/vnd.bokehjs_exec.v0+json": {
       "id": "13147"
      }
     },
     "output_type": "display_data"
    },
    {
     "data": {
      "text/html": [
       "\n",
       "\n",
       "\n",
       "\n",
       "\n",
       "\n",
       "  <div class=\"bk-root\" id=\"bb4cfa44-87c1-4773-a220-511a99346cf3\" data-root-id=\"13627\"></div>\n"
      ]
     },
     "metadata": {},
     "output_type": "display_data"
    },
    {
     "data": {
      "application/javascript": [
       "(function(root) {\n",
       "  function embed_document(root) {\n",
       "    \n",
       "  var docs_json = {\"55f3a90e-6f12-4ad4-a86f-67c3392797e0\":{\"roots\":{\"references\":[{\"attributes\":{},\"id\":\"13650\",\"type\":\"ResetTool\"},{\"attributes\":{},\"id\":\"13651\",\"type\":\"HelpTool\"},{\"attributes\":{},\"id\":\"14059\",\"type\":\"Selection\"},{\"attributes\":{},\"id\":\"14058\",\"type\":\"BasicTickFormatter\"},{\"attributes\":{\"callback\":null,\"data\":{\"top\":{\"__ndarray__\":\"k1duyBScOkBUtIKU+z1HQHt4S8ruNTFAnLO0uV+e6j9FQ+aMJLohQA==\",\"dtype\":\"float64\",\"shape\":[5]},\"x\":[1,2,3,4,5]},\"selected\":{\"id\":\"14059\",\"type\":\"Selection\"},\"selection_policy\":{\"id\":\"14060\",\"type\":\"UnionRenderers\"}},\"id\":\"13659\",\"type\":\"ColumnDataSource\"},{\"attributes\":{},\"id\":\"14056\",\"type\":\"BasicTickFormatter\"},{\"attributes\":{\"text\":\"\"},\"id\":\"14054\",\"type\":\"Title\"},{\"attributes\":{\"formatter\":{\"id\":\"14056\",\"type\":\"BasicTickFormatter\"},\"ticker\":{\"id\":\"13637\",\"type\":\"BasicTicker\"}},\"id\":\"13636\",\"type\":\"LinearAxis\"},{\"attributes\":{},\"id\":\"13637\",\"type\":\"BasicTicker\"},{\"attributes\":{},\"id\":\"13634\",\"type\":\"LinearScale\"},{\"attributes\":{},\"id\":\"13632\",\"type\":\"LinearScale\"},{\"attributes\":{\"callback\":null},\"id\":\"13630\",\"type\":\"DataRange1d\"},{\"attributes\":{},\"id\":\"14060\",\"type\":\"UnionRenderers\"},{\"attributes\":{\"bottom_units\":\"screen\",\"fill_alpha\":{\"value\":0.5},\"fill_color\":{\"value\":\"lightgrey\"},\"left_units\":\"screen\",\"level\":\"overlay\",\"line_alpha\":{\"value\":1.0},\"line_color\":{\"value\":\"black\"},\"line_dash\":[4,4],\"line_width\":{\"value\":2},\"render_mode\":\"css\",\"right_units\":\"screen\",\"top_units\":\"screen\"},\"id\":\"14061\",\"type\":\"BoxAnnotation\"},{\"attributes\":{},\"id\":\"13647\",\"type\":\"WheelZoomTool\"},{\"attributes\":{},\"id\":\"13646\",\"type\":\"PanTool\"},{\"attributes\":{\"dimension\":1,\"ticker\":{\"id\":\"13642\",\"type\":\"BasicTicker\"}},\"id\":\"13645\",\"type\":\"Grid\"},{\"attributes\":{},\"id\":\"13642\",\"type\":\"BasicTicker\"},{\"attributes\":{\"formatter\":{\"id\":\"14058\",\"type\":\"BasicTickFormatter\"},\"ticker\":{\"id\":\"13642\",\"type\":\"BasicTicker\"}},\"id\":\"13641\",\"type\":\"LinearAxis\"},{\"attributes\":{\"ticker\":{\"id\":\"13637\",\"type\":\"BasicTicker\"}},\"id\":\"13640\",\"type\":\"Grid\"},{\"attributes\":{},\"id\":\"13649\",\"type\":\"SaveTool\"},{\"attributes\":{\"overlay\":{\"id\":\"14061\",\"type\":\"BoxAnnotation\"}},\"id\":\"13648\",\"type\":\"BoxZoomTool\"},{\"attributes\":{\"below\":[{\"id\":\"13636\",\"type\":\"LinearAxis\"}],\"center\":[{\"id\":\"13640\",\"type\":\"Grid\"},{\"id\":\"13645\",\"type\":\"Grid\"}],\"left\":[{\"id\":\"13641\",\"type\":\"LinearAxis\"}],\"renderers\":[{\"id\":\"13662\",\"type\":\"GlyphRenderer\"}],\"title\":{\"id\":\"14054\",\"type\":\"Title\"},\"toolbar\":{\"id\":\"13652\",\"type\":\"Toolbar\"},\"x_range\":{\"id\":\"13628\",\"type\":\"DataRange1d\"},\"x_scale\":{\"id\":\"13632\",\"type\":\"LinearScale\"},\"y_range\":{\"id\":\"13630\",\"type\":\"DataRange1d\"},\"y_scale\":{\"id\":\"13634\",\"type\":\"LinearScale\"}},\"id\":\"13627\",\"subtype\":\"Figure\",\"type\":\"Plot\"},{\"attributes\":{\"fill_alpha\":{\"value\":0.1},\"fill_color\":{\"value\":\"#1f77b4\"},\"line_alpha\":{\"value\":0.1},\"line_color\":{\"value\":\"#1f77b4\"},\"top\":{\"field\":\"top\"},\"width\":{\"value\":0.5},\"x\":{\"field\":\"x\"}},\"id\":\"13661\",\"type\":\"VBar\"},{\"attributes\":{\"fill_color\":{\"value\":\"#1f77b4\"},\"line_color\":{\"value\":\"#1f77b4\"},\"top\":{\"field\":\"top\"},\"width\":{\"value\":0.5},\"x\":{\"field\":\"x\"}},\"id\":\"13660\",\"type\":\"VBar\"},{\"attributes\":{\"source\":{\"id\":\"13659\",\"type\":\"ColumnDataSource\"}},\"id\":\"13663\",\"type\":\"CDSView\"},{\"attributes\":{\"data_source\":{\"id\":\"13659\",\"type\":\"ColumnDataSource\"},\"glyph\":{\"id\":\"13660\",\"type\":\"VBar\"},\"hover_glyph\":null,\"muted_glyph\":null,\"nonselection_glyph\":{\"id\":\"13661\",\"type\":\"VBar\"},\"selection_glyph\":null,\"view\":{\"id\":\"13663\",\"type\":\"CDSView\"}},\"id\":\"13662\",\"type\":\"GlyphRenderer\"},{\"attributes\":{\"callback\":null},\"id\":\"13628\",\"type\":\"DataRange1d\"},{\"attributes\":{\"active_drag\":\"auto\",\"active_inspect\":\"auto\",\"active_multi\":null,\"active_scroll\":\"auto\",\"active_tap\":\"auto\",\"tools\":[{\"id\":\"13646\",\"type\":\"PanTool\"},{\"id\":\"13647\",\"type\":\"WheelZoomTool\"},{\"id\":\"13648\",\"type\":\"BoxZoomTool\"},{\"id\":\"13649\",\"type\":\"SaveTool\"},{\"id\":\"13650\",\"type\":\"ResetTool\"},{\"id\":\"13651\",\"type\":\"HelpTool\"}]},\"id\":\"13652\",\"type\":\"Toolbar\"}],\"root_ids\":[\"13627\"]},\"title\":\"Bokeh Application\",\"version\":\"1.4.0\"}};\n",
       "  var render_items = [{\"docid\":\"55f3a90e-6f12-4ad4-a86f-67c3392797e0\",\"roots\":{\"13627\":\"bb4cfa44-87c1-4773-a220-511a99346cf3\"}}];\n",
       "  root.Bokeh.embed.embed_items_notebook(docs_json, render_items);\n",
       "\n",
       "  }\n",
       "  if (root.Bokeh !== undefined) {\n",
       "    embed_document(root);\n",
       "  } else {\n",
       "    var attempts = 0;\n",
       "    var timer = setInterval(function(root) {\n",
       "      if (root.Bokeh !== undefined) {\n",
       "        clearInterval(timer);\n",
       "        embed_document(root);\n",
       "      } else {\n",
       "        attempts++;\n",
       "        if (attempts > 100) {\n",
       "          clearInterval(timer);\n",
       "          console.log(\"Bokeh: ERROR: Unable to run BokehJS code because BokehJS library is missing\");\n",
       "        }\n",
       "      }\n",
       "    }, 10, root)\n",
       "  }\n",
       "})(window);"
      ],
      "application/vnd.bokehjs_exec.v0+json": ""
     },
     "metadata": {
      "application/vnd.bokehjs_exec.v0+json": {
       "id": "13627"
      }
     },
     "output_type": "display_data"
    },
    {
     "data": {
      "text/html": [
       "\n",
       "\n",
       "\n",
       "\n",
       "\n",
       "\n",
       "  <div class=\"bk-root\" id=\"b852b0a9-c66c-493b-8562-e8f8dce6b330\" data-root-id=\"14116\"></div>\n"
      ]
     },
     "metadata": {},
     "output_type": "display_data"
    },
    {
     "data": {
      "application/javascript": [
       "(function(root) {\n",
       "  function embed_document(root) {\n",
       "    \n",
       "  var docs_json = {\"a4c6496f-1eae-49fa-b4dc-65673f69e1d2\":{\"roots\":{\"references\":[{\"attributes\":{},\"id\":\"14138\",\"type\":\"SaveTool\"},{\"attributes\":{},\"id\":\"14139\",\"type\":\"ResetTool\"},{\"attributes\":{\"below\":[{\"id\":\"14125\",\"type\":\"LinearAxis\"}],\"center\":[{\"id\":\"14129\",\"type\":\"Grid\"},{\"id\":\"14134\",\"type\":\"Grid\"}],\"left\":[{\"id\":\"14130\",\"type\":\"LinearAxis\"}],\"renderers\":[{\"id\":\"14151\",\"type\":\"GlyphRenderer\"}],\"title\":{\"id\":\"14552\",\"type\":\"Title\"},\"toolbar\":{\"id\":\"14141\",\"type\":\"Toolbar\"},\"x_range\":{\"id\":\"14117\",\"type\":\"DataRange1d\"},\"x_scale\":{\"id\":\"14121\",\"type\":\"LinearScale\"},\"y_range\":{\"id\":\"14119\",\"type\":\"DataRange1d\"},\"y_scale\":{\"id\":\"14123\",\"type\":\"LinearScale\"}},\"id\":\"14116\",\"subtype\":\"Figure\",\"type\":\"Plot\"},{\"attributes\":{\"callback\":null},\"id\":\"14117\",\"type\":\"DataRange1d\"},{\"attributes\":{\"formatter\":{\"id\":\"14556\",\"type\":\"BasicTickFormatter\"},\"ticker\":{\"id\":\"14131\",\"type\":\"BasicTicker\"}},\"id\":\"14130\",\"type\":\"LinearAxis\"},{\"attributes\":{},\"id\":\"14131\",\"type\":\"BasicTicker\"},{\"attributes\":{\"callback\":null},\"id\":\"14119\",\"type\":\"DataRange1d\"},{\"attributes\":{\"dimension\":1,\"ticker\":{\"id\":\"14131\",\"type\":\"BasicTicker\"}},\"id\":\"14134\",\"type\":\"Grid\"},{\"attributes\":{},\"id\":\"14135\",\"type\":\"PanTool\"},{\"attributes\":{},\"id\":\"14136\",\"type\":\"WheelZoomTool\"},{\"attributes\":{\"overlay\":{\"id\":\"14559\",\"type\":\"BoxAnnotation\"}},\"id\":\"14137\",\"type\":\"BoxZoomTool\"},{\"attributes\":{\"source\":{\"id\":\"14148\",\"type\":\"ColumnDataSource\"}},\"id\":\"14152\",\"type\":\"CDSView\"},{\"attributes\":{\"fill_alpha\":{\"value\":0.1},\"fill_color\":{\"value\":\"#1f77b4\"},\"line_alpha\":{\"value\":0.1},\"line_color\":{\"value\":\"#1f77b4\"},\"top\":{\"field\":\"top\"},\"width\":{\"value\":0.5},\"x\":{\"field\":\"x\"}},\"id\":\"14150\",\"type\":\"VBar\"},{\"attributes\":{\"data_source\":{\"id\":\"14148\",\"type\":\"ColumnDataSource\"},\"glyph\":{\"id\":\"14149\",\"type\":\"VBar\"},\"hover_glyph\":null,\"muted_glyph\":null,\"nonselection_glyph\":{\"id\":\"14150\",\"type\":\"VBar\"},\"selection_glyph\":null,\"view\":{\"id\":\"14152\",\"type\":\"CDSView\"}},\"id\":\"14151\",\"type\":\"GlyphRenderer\"},{\"attributes\":{},\"id\":\"14558\",\"type\":\"UnionRenderers\"},{\"attributes\":{\"bottom_units\":\"screen\",\"fill_alpha\":{\"value\":0.5},\"fill_color\":{\"value\":\"lightgrey\"},\"left_units\":\"screen\",\"level\":\"overlay\",\"line_alpha\":{\"value\":1.0},\"line_color\":{\"value\":\"black\"},\"line_dash\":[4,4],\"line_width\":{\"value\":2},\"render_mode\":\"css\",\"right_units\":\"screen\",\"top_units\":\"screen\"},\"id\":\"14559\",\"type\":\"BoxAnnotation\"},{\"attributes\":{\"text\":\"\"},\"id\":\"14552\",\"type\":\"Title\"},{\"attributes\":{},\"id\":\"14556\",\"type\":\"BasicTickFormatter\"},{\"attributes\":{},\"id\":\"14557\",\"type\":\"Selection\"},{\"attributes\":{},\"id\":\"14554\",\"type\":\"BasicTickFormatter\"},{\"attributes\":{\"ticker\":{\"id\":\"14126\",\"type\":\"BasicTicker\"}},\"id\":\"14129\",\"type\":\"Grid\"},{\"attributes\":{},\"id\":\"14126\",\"type\":\"BasicTicker\"},{\"attributes\":{\"formatter\":{\"id\":\"14554\",\"type\":\"BasicTickFormatter\"},\"ticker\":{\"id\":\"14126\",\"type\":\"BasicTicker\"}},\"id\":\"14125\",\"type\":\"LinearAxis\"},{\"attributes\":{},\"id\":\"14123\",\"type\":\"LinearScale\"},{\"attributes\":{},\"id\":\"14121\",\"type\":\"LinearScale\"},{\"attributes\":{\"fill_color\":{\"value\":\"#1f77b4\"},\"line_color\":{\"value\":\"#1f77b4\"},\"top\":{\"field\":\"top\"},\"width\":{\"value\":0.5},\"x\":{\"field\":\"x\"}},\"id\":\"14149\",\"type\":\"VBar\"},{\"attributes\":{\"callback\":null,\"data\":{\"top\":{\"__ndarray__\":\"YIJH18F8OEAd0sBtBlFEQJtsI9UT8D1AL2xDNGYA9j+EsHmmuIgMQA==\",\"dtype\":\"float64\",\"shape\":[5]},\"x\":[1,2,3,4,5]},\"selected\":{\"id\":\"14557\",\"type\":\"Selection\"},\"selection_policy\":{\"id\":\"14558\",\"type\":\"UnionRenderers\"}},\"id\":\"14148\",\"type\":\"ColumnDataSource\"},{\"attributes\":{\"active_drag\":\"auto\",\"active_inspect\":\"auto\",\"active_multi\":null,\"active_scroll\":\"auto\",\"active_tap\":\"auto\",\"tools\":[{\"id\":\"14135\",\"type\":\"PanTool\"},{\"id\":\"14136\",\"type\":\"WheelZoomTool\"},{\"id\":\"14137\",\"type\":\"BoxZoomTool\"},{\"id\":\"14138\",\"type\":\"SaveTool\"},{\"id\":\"14139\",\"type\":\"ResetTool\"},{\"id\":\"14140\",\"type\":\"HelpTool\"}]},\"id\":\"14141\",\"type\":\"Toolbar\"},{\"attributes\":{},\"id\":\"14140\",\"type\":\"HelpTool\"}],\"root_ids\":[\"14116\"]},\"title\":\"Bokeh Application\",\"version\":\"1.4.0\"}};\n",
       "  var render_items = [{\"docid\":\"a4c6496f-1eae-49fa-b4dc-65673f69e1d2\",\"roots\":{\"14116\":\"b852b0a9-c66c-493b-8562-e8f8dce6b330\"}}];\n",
       "  root.Bokeh.embed.embed_items_notebook(docs_json, render_items);\n",
       "\n",
       "  }\n",
       "  if (root.Bokeh !== undefined) {\n",
       "    embed_document(root);\n",
       "  } else {\n",
       "    var attempts = 0;\n",
       "    var timer = setInterval(function(root) {\n",
       "      if (root.Bokeh !== undefined) {\n",
       "        clearInterval(timer);\n",
       "        embed_document(root);\n",
       "      } else {\n",
       "        attempts++;\n",
       "        if (attempts > 100) {\n",
       "          clearInterval(timer);\n",
       "          console.log(\"Bokeh: ERROR: Unable to run BokehJS code because BokehJS library is missing\");\n",
       "        }\n",
       "      }\n",
       "    }, 10, root)\n",
       "  }\n",
       "})(window);"
      ],
      "application/vnd.bokehjs_exec.v0+json": ""
     },
     "metadata": {
      "application/vnd.bokehjs_exec.v0+json": {
       "id": "14116"
      }
     },
     "output_type": "display_data"
    },
    {
     "data": {
      "text/html": [
       "\n",
       "\n",
       "\n",
       "\n",
       "\n",
       "\n",
       "  <div class=\"bk-root\" id=\"2c84634e-f8a7-4754-929c-16d361387f6a\" data-root-id=\"14614\"></div>\n"
      ]
     },
     "metadata": {},
     "output_type": "display_data"
    },
    {
     "data": {
      "application/javascript": [
       "(function(root) {\n",
       "  function embed_document(root) {\n",
       "    \n",
       "  var docs_json = {\"06eba46f-9e50-403d-8443-0e9b42c2f694\":{\"roots\":{\"references\":[{\"attributes\":{\"source\":{\"id\":\"14646\",\"type\":\"ColumnDataSource\"}},\"id\":\"14650\",\"type\":\"CDSView\"},{\"attributes\":{},\"id\":\"14633\",\"type\":\"PanTool\"},{\"attributes\":{\"active_drag\":\"auto\",\"active_inspect\":\"auto\",\"active_multi\":null,\"active_scroll\":\"auto\",\"active_tap\":\"auto\",\"tools\":[{\"id\":\"14633\",\"type\":\"PanTool\"},{\"id\":\"14634\",\"type\":\"WheelZoomTool\"},{\"id\":\"14635\",\"type\":\"BoxZoomTool\"},{\"id\":\"14636\",\"type\":\"SaveTool\"},{\"id\":\"14637\",\"type\":\"ResetTool\"},{\"id\":\"14638\",\"type\":\"HelpTool\"}]},\"id\":\"14639\",\"type\":\"Toolbar\"},{\"attributes\":{},\"id\":\"14638\",\"type\":\"HelpTool\"},{\"attributes\":{},\"id\":\"14619\",\"type\":\"LinearScale\"},{\"attributes\":{\"below\":[{\"id\":\"14623\",\"type\":\"LinearAxis\"}],\"center\":[{\"id\":\"14627\",\"type\":\"Grid\"},{\"id\":\"14632\",\"type\":\"Grid\"}],\"left\":[{\"id\":\"14628\",\"type\":\"LinearAxis\"}],\"renderers\":[{\"id\":\"14649\",\"type\":\"GlyphRenderer\"}],\"title\":{\"id\":\"15059\",\"type\":\"Title\"},\"toolbar\":{\"id\":\"14639\",\"type\":\"Toolbar\"},\"x_range\":{\"id\":\"14615\",\"type\":\"DataRange1d\"},\"x_scale\":{\"id\":\"14619\",\"type\":\"LinearScale\"},\"y_range\":{\"id\":\"14617\",\"type\":\"DataRange1d\"},\"y_scale\":{\"id\":\"14621\",\"type\":\"LinearScale\"}},\"id\":\"14614\",\"subtype\":\"Figure\",\"type\":\"Plot\"},{\"attributes\":{\"callback\":null},\"id\":\"14615\",\"type\":\"DataRange1d\"},{\"attributes\":{\"dimension\":1,\"ticker\":{\"id\":\"14629\",\"type\":\"BasicTicker\"}},\"id\":\"14632\",\"type\":\"Grid\"},{\"attributes\":{\"callback\":null},\"id\":\"14617\",\"type\":\"DataRange1d\"},{\"attributes\":{},\"id\":\"14637\",\"type\":\"ResetTool\"},{\"attributes\":{},\"id\":\"14636\",\"type\":\"SaveTool\"},{\"attributes\":{\"overlay\":{\"id\":\"15066\",\"type\":\"BoxAnnotation\"}},\"id\":\"14635\",\"type\":\"BoxZoomTool\"},{\"attributes\":{},\"id\":\"14621\",\"type\":\"LinearScale\"},{\"attributes\":{},\"id\":\"15065\",\"type\":\"UnionRenderers\"},{\"attributes\":{},\"id\":\"15064\",\"type\":\"Selection\"},{\"attributes\":{\"bottom_units\":\"screen\",\"fill_alpha\":{\"value\":0.5},\"fill_color\":{\"value\":\"lightgrey\"},\"left_units\":\"screen\",\"level\":\"overlay\",\"line_alpha\":{\"value\":1.0},\"line_color\":{\"value\":\"black\"},\"line_dash\":[4,4],\"line_width\":{\"value\":2},\"render_mode\":\"css\",\"right_units\":\"screen\",\"top_units\":\"screen\"},\"id\":\"15066\",\"type\":\"BoxAnnotation\"},{\"attributes\":{},\"id\":\"15061\",\"type\":\"BasicTickFormatter\"},{\"attributes\":{},\"id\":\"15063\",\"type\":\"BasicTickFormatter\"},{\"attributes\":{},\"id\":\"14634\",\"type\":\"WheelZoomTool\"},{\"attributes\":{},\"id\":\"14624\",\"type\":\"BasicTicker\"},{\"attributes\":{\"ticker\":{\"id\":\"14624\",\"type\":\"BasicTicker\"}},\"id\":\"14627\",\"type\":\"Grid\"},{\"attributes\":{\"callback\":null,\"data\":{\"top\":{\"__ndarray__\":\"O0zLjYdoN0CowlaSDktHQGDZsK0C/zZARO9bkGUy9D93WEIbyfwWQA==\",\"dtype\":\"float64\",\"shape\":[5]},\"x\":[1,2,3,4,5]},\"selected\":{\"id\":\"15064\",\"type\":\"Selection\"},\"selection_policy\":{\"id\":\"15065\",\"type\":\"UnionRenderers\"}},\"id\":\"14646\",\"type\":\"ColumnDataSource\"},{\"attributes\":{\"fill_color\":{\"value\":\"#1f77b4\"},\"line_color\":{\"value\":\"#1f77b4\"},\"top\":{\"field\":\"top\"},\"width\":{\"value\":0.5},\"x\":{\"field\":\"x\"}},\"id\":\"14647\",\"type\":\"VBar\"},{\"attributes\":{\"formatter\":{\"id\":\"15061\",\"type\":\"BasicTickFormatter\"},\"ticker\":{\"id\":\"14624\",\"type\":\"BasicTicker\"}},\"id\":\"14623\",\"type\":\"LinearAxis\"},{\"attributes\":{\"fill_alpha\":{\"value\":0.1},\"fill_color\":{\"value\":\"#1f77b4\"},\"line_alpha\":{\"value\":0.1},\"line_color\":{\"value\":\"#1f77b4\"},\"top\":{\"field\":\"top\"},\"width\":{\"value\":0.5},\"x\":{\"field\":\"x\"}},\"id\":\"14648\",\"type\":\"VBar\"},{\"attributes\":{\"data_source\":{\"id\":\"14646\",\"type\":\"ColumnDataSource\"},\"glyph\":{\"id\":\"14647\",\"type\":\"VBar\"},\"hover_glyph\":null,\"muted_glyph\":null,\"nonselection_glyph\":{\"id\":\"14648\",\"type\":\"VBar\"},\"selection_glyph\":null,\"view\":{\"id\":\"14650\",\"type\":\"CDSView\"}},\"id\":\"14649\",\"type\":\"GlyphRenderer\"},{\"attributes\":{\"formatter\":{\"id\":\"15063\",\"type\":\"BasicTickFormatter\"},\"ticker\":{\"id\":\"14629\",\"type\":\"BasicTicker\"}},\"id\":\"14628\",\"type\":\"LinearAxis\"},{\"attributes\":{},\"id\":\"14629\",\"type\":\"BasicTicker\"},{\"attributes\":{\"text\":\"\"},\"id\":\"15059\",\"type\":\"Title\"}],\"root_ids\":[\"14614\"]},\"title\":\"Bokeh Application\",\"version\":\"1.4.0\"}};\n",
       "  var render_items = [{\"docid\":\"06eba46f-9e50-403d-8443-0e9b42c2f694\",\"roots\":{\"14614\":\"2c84634e-f8a7-4754-929c-16d361387f6a\"}}];\n",
       "  root.Bokeh.embed.embed_items_notebook(docs_json, render_items);\n",
       "\n",
       "  }\n",
       "  if (root.Bokeh !== undefined) {\n",
       "    embed_document(root);\n",
       "  } else {\n",
       "    var attempts = 0;\n",
       "    var timer = setInterval(function(root) {\n",
       "      if (root.Bokeh !== undefined) {\n",
       "        clearInterval(timer);\n",
       "        embed_document(root);\n",
       "      } else {\n",
       "        attempts++;\n",
       "        if (attempts > 100) {\n",
       "          clearInterval(timer);\n",
       "          console.log(\"Bokeh: ERROR: Unable to run BokehJS code because BokehJS library is missing\");\n",
       "        }\n",
       "      }\n",
       "    }, 10, root)\n",
       "  }\n",
       "})(window);"
      ],
      "application/vnd.bokehjs_exec.v0+json": ""
     },
     "metadata": {
      "application/vnd.bokehjs_exec.v0+json": {
       "id": "14614"
      }
     },
     "output_type": "display_data"
    },
    {
     "data": {
      "text/html": [
       "\n",
       "\n",
       "\n",
       "\n",
       "\n",
       "\n",
       "  <div class=\"bk-root\" id=\"75958d6c-0234-42d0-8b93-f6b957dace64\" data-root-id=\"15121\"></div>\n"
      ]
     },
     "metadata": {},
     "output_type": "display_data"
    },
    {
     "data": {
      "application/javascript": [
       "(function(root) {\n",
       "  function embed_document(root) {\n",
       "    \n",
       "  var docs_json = {\"a2dfab13-e95d-4570-9907-5793f25a751f\":{\"roots\":{\"references\":[{\"attributes\":{\"overlay\":{\"id\":\"15582\",\"type\":\"BoxAnnotation\"}},\"id\":\"15142\",\"type\":\"BoxZoomTool\"},{\"attributes\":{},\"id\":\"15143\",\"type\":\"SaveTool\"},{\"attributes\":{},\"id\":\"15126\",\"type\":\"LinearScale\"},{\"attributes\":{},\"id\":\"15141\",\"type\":\"WheelZoomTool\"},{\"attributes\":{\"active_drag\":\"auto\",\"active_inspect\":\"auto\",\"active_multi\":null,\"active_scroll\":\"auto\",\"active_tap\":\"auto\",\"tools\":[{\"id\":\"15140\",\"type\":\"PanTool\"},{\"id\":\"15141\",\"type\":\"WheelZoomTool\"},{\"id\":\"15142\",\"type\":\"BoxZoomTool\"},{\"id\":\"15143\",\"type\":\"SaveTool\"},{\"id\":\"15144\",\"type\":\"ResetTool\"},{\"id\":\"15145\",\"type\":\"HelpTool\"}]},\"id\":\"15146\",\"type\":\"Toolbar\"},{\"attributes\":{\"below\":[{\"id\":\"15130\",\"type\":\"LinearAxis\"}],\"center\":[{\"id\":\"15134\",\"type\":\"Grid\"},{\"id\":\"15139\",\"type\":\"Grid\"}],\"left\":[{\"id\":\"15135\",\"type\":\"LinearAxis\"}],\"renderers\":[{\"id\":\"15156\",\"type\":\"GlyphRenderer\"}],\"title\":{\"id\":\"15575\",\"type\":\"Title\"},\"toolbar\":{\"id\":\"15146\",\"type\":\"Toolbar\"},\"x_range\":{\"id\":\"15122\",\"type\":\"DataRange1d\"},\"x_scale\":{\"id\":\"15126\",\"type\":\"LinearScale\"},\"y_range\":{\"id\":\"15124\",\"type\":\"DataRange1d\"},\"y_scale\":{\"id\":\"15128\",\"type\":\"LinearScale\"}},\"id\":\"15121\",\"subtype\":\"Figure\",\"type\":\"Plot\"},{\"attributes\":{},\"id\":\"15144\",\"type\":\"ResetTool\"},{\"attributes\":{},\"id\":\"15145\",\"type\":\"HelpTool\"},{\"attributes\":{},\"id\":\"15128\",\"type\":\"LinearScale\"},{\"attributes\":{},\"id\":\"15140\",\"type\":\"PanTool\"},{\"attributes\":{},\"id\":\"15577\",\"type\":\"BasicTickFormatter\"},{\"attributes\":{\"text\":\"\"},\"id\":\"15575\",\"type\":\"Title\"},{\"attributes\":{},\"id\":\"15579\",\"type\":\"BasicTickFormatter\"},{\"attributes\":{\"callback\":null},\"id\":\"15122\",\"type\":\"DataRange1d\"},{\"attributes\":{\"bottom_units\":\"screen\",\"fill_alpha\":{\"value\":0.5},\"fill_color\":{\"value\":\"lightgrey\"},\"left_units\":\"screen\",\"level\":\"overlay\",\"line_alpha\":{\"value\":1.0},\"line_color\":{\"value\":\"black\"},\"line_dash\":[4,4],\"line_width\":{\"value\":2},\"render_mode\":\"css\",\"right_units\":\"screen\",\"top_units\":\"screen\"},\"id\":\"15582\",\"type\":\"BoxAnnotation\"},{\"attributes\":{},\"id\":\"15580\",\"type\":\"Selection\"},{\"attributes\":{},\"id\":\"15581\",\"type\":\"UnionRenderers\"},{\"attributes\":{\"callback\":null,\"data\":{\"top\":{\"__ndarray__\":\"DtRSSeJFMUB0tp1LiexHQK3eFJgHtztAtLg7h4q1FkDYIt9YDsr3Pw==\",\"dtype\":\"float64\",\"shape\":[5]},\"x\":[1,2,3,4,5]},\"selected\":{\"id\":\"15580\",\"type\":\"Selection\"},\"selection_policy\":{\"id\":\"15581\",\"type\":\"UnionRenderers\"}},\"id\":\"15153\",\"type\":\"ColumnDataSource\"},{\"attributes\":{\"fill_alpha\":{\"value\":0.1},\"fill_color\":{\"value\":\"#1f77b4\"},\"line_alpha\":{\"value\":0.1},\"line_color\":{\"value\":\"#1f77b4\"},\"top\":{\"field\":\"top\"},\"width\":{\"value\":0.5},\"x\":{\"field\":\"x\"}},\"id\":\"15155\",\"type\":\"VBar\"},{\"attributes\":{\"fill_color\":{\"value\":\"#1f77b4\"},\"line_color\":{\"value\":\"#1f77b4\"},\"top\":{\"field\":\"top\"},\"width\":{\"value\":0.5},\"x\":{\"field\":\"x\"}},\"id\":\"15154\",\"type\":\"VBar\"},{\"attributes\":{\"source\":{\"id\":\"15153\",\"type\":\"ColumnDataSource\"}},\"id\":\"15157\",\"type\":\"CDSView\"},{\"attributes\":{\"data_source\":{\"id\":\"15153\",\"type\":\"ColumnDataSource\"},\"glyph\":{\"id\":\"15154\",\"type\":\"VBar\"},\"hover_glyph\":null,\"muted_glyph\":null,\"nonselection_glyph\":{\"id\":\"15155\",\"type\":\"VBar\"},\"selection_glyph\":null,\"view\":{\"id\":\"15157\",\"type\":\"CDSView\"}},\"id\":\"15156\",\"type\":\"GlyphRenderer\"},{\"attributes\":{\"dimension\":1,\"ticker\":{\"id\":\"15136\",\"type\":\"BasicTicker\"}},\"id\":\"15139\",\"type\":\"Grid\"},{\"attributes\":{},\"id\":\"15131\",\"type\":\"BasicTicker\"},{\"attributes\":{\"formatter\":{\"id\":\"15577\",\"type\":\"BasicTickFormatter\"},\"ticker\":{\"id\":\"15131\",\"type\":\"BasicTicker\"}},\"id\":\"15130\",\"type\":\"LinearAxis\"},{\"attributes\":{},\"id\":\"15136\",\"type\":\"BasicTicker\"},{\"attributes\":{\"formatter\":{\"id\":\"15579\",\"type\":\"BasicTickFormatter\"},\"ticker\":{\"id\":\"15136\",\"type\":\"BasicTicker\"}},\"id\":\"15135\",\"type\":\"LinearAxis\"},{\"attributes\":{\"ticker\":{\"id\":\"15131\",\"type\":\"BasicTicker\"}},\"id\":\"15134\",\"type\":\"Grid\"},{\"attributes\":{\"callback\":null},\"id\":\"15124\",\"type\":\"DataRange1d\"}],\"root_ids\":[\"15121\"]},\"title\":\"Bokeh Application\",\"version\":\"1.4.0\"}};\n",
       "  var render_items = [{\"docid\":\"a2dfab13-e95d-4570-9907-5793f25a751f\",\"roots\":{\"15121\":\"75958d6c-0234-42d0-8b93-f6b957dace64\"}}];\n",
       "  root.Bokeh.embed.embed_items_notebook(docs_json, render_items);\n",
       "\n",
       "  }\n",
       "  if (root.Bokeh !== undefined) {\n",
       "    embed_document(root);\n",
       "  } else {\n",
       "    var attempts = 0;\n",
       "    var timer = setInterval(function(root) {\n",
       "      if (root.Bokeh !== undefined) {\n",
       "        clearInterval(timer);\n",
       "        embed_document(root);\n",
       "      } else {\n",
       "        attempts++;\n",
       "        if (attempts > 100) {\n",
       "          clearInterval(timer);\n",
       "          console.log(\"Bokeh: ERROR: Unable to run BokehJS code because BokehJS library is missing\");\n",
       "        }\n",
       "      }\n",
       "    }, 10, root)\n",
       "  }\n",
       "})(window);"
      ],
      "application/vnd.bokehjs_exec.v0+json": ""
     },
     "metadata": {
      "application/vnd.bokehjs_exec.v0+json": {
       "id": "15121"
      }
     },
     "output_type": "display_data"
    },
    {
     "data": {
      "text/html": [
       "\n",
       "\n",
       "\n",
       "\n",
       "\n",
       "\n",
       "  <div class=\"bk-root\" id=\"8bf58370-e5b9-4675-adce-10d476729e7c\" data-root-id=\"15637\"></div>\n"
      ]
     },
     "metadata": {},
     "output_type": "display_data"
    },
    {
     "data": {
      "application/javascript": [
       "(function(root) {\n",
       "  function embed_document(root) {\n",
       "    \n",
       "  var docs_json = {\"c5c478b4-3321-4c42-94bf-27a23385e11c\":{\"roots\":{\"references\":[{\"attributes\":{\"callback\":null,\"data\":{\"top\":{\"__ndarray__\":\"XbFrNBv/PkA9jQQrTVdDQOhmy44CYTxAJvhvfkPi8z8auBnbdWTmPw==\",\"dtype\":\"float64\",\"shape\":[5]},\"x\":[1,2,3,4,5]},\"selected\":{\"id\":\"16105\",\"type\":\"Selection\"},\"selection_policy\":{\"id\":\"16106\",\"type\":\"UnionRenderers\"}},\"id\":\"15669\",\"type\":\"ColumnDataSource\"},{\"attributes\":{},\"id\":\"15644\",\"type\":\"LinearScale\"},{\"attributes\":{\"formatter\":{\"id\":\"16102\",\"type\":\"BasicTickFormatter\"},\"ticker\":{\"id\":\"15647\",\"type\":\"BasicTicker\"}},\"id\":\"15646\",\"type\":\"LinearAxis\"},{\"attributes\":{\"active_drag\":\"auto\",\"active_inspect\":\"auto\",\"active_multi\":null,\"active_scroll\":\"auto\",\"active_tap\":\"auto\",\"tools\":[{\"id\":\"15656\",\"type\":\"PanTool\"},{\"id\":\"15657\",\"type\":\"WheelZoomTool\"},{\"id\":\"15658\",\"type\":\"BoxZoomTool\"},{\"id\":\"15659\",\"type\":\"SaveTool\"},{\"id\":\"15660\",\"type\":\"ResetTool\"},{\"id\":\"15661\",\"type\":\"HelpTool\"}]},\"id\":\"15662\",\"type\":\"Toolbar\"},{\"attributes\":{},\"id\":\"15647\",\"type\":\"BasicTicker\"},{\"attributes\":{},\"id\":\"15660\",\"type\":\"ResetTool\"},{\"attributes\":{},\"id\":\"15661\",\"type\":\"HelpTool\"},{\"attributes\":{},\"id\":\"15642\",\"type\":\"LinearScale\"},{\"attributes\":{\"dimension\":1,\"ticker\":{\"id\":\"15652\",\"type\":\"BasicTicker\"}},\"id\":\"15655\",\"type\":\"Grid\"},{\"attributes\":{\"callback\":null},\"id\":\"15640\",\"type\":\"DataRange1d\"},{\"attributes\":{\"callback\":null},\"id\":\"15638\",\"type\":\"DataRange1d\"},{\"attributes\":{\"fill_color\":{\"value\":\"#1f77b4\"},\"line_color\":{\"value\":\"#1f77b4\"},\"top\":{\"field\":\"top\"},\"width\":{\"value\":0.5},\"x\":{\"field\":\"x\"}},\"id\":\"15670\",\"type\":\"VBar\"},{\"attributes\":{\"fill_alpha\":{\"value\":0.1},\"fill_color\":{\"value\":\"#1f77b4\"},\"line_alpha\":{\"value\":0.1},\"line_color\":{\"value\":\"#1f77b4\"},\"top\":{\"field\":\"top\"},\"width\":{\"value\":0.5},\"x\":{\"field\":\"x\"}},\"id\":\"15671\",\"type\":\"VBar\"},{\"attributes\":{\"data_source\":{\"id\":\"15669\",\"type\":\"ColumnDataSource\"},\"glyph\":{\"id\":\"15670\",\"type\":\"VBar\"},\"hover_glyph\":null,\"muted_glyph\":null,\"nonselection_glyph\":{\"id\":\"15671\",\"type\":\"VBar\"},\"selection_glyph\":null,\"view\":{\"id\":\"15673\",\"type\":\"CDSView\"}},\"id\":\"15672\",\"type\":\"GlyphRenderer\"},{\"attributes\":{\"source\":{\"id\":\"15669\",\"type\":\"ColumnDataSource\"}},\"id\":\"15673\",\"type\":\"CDSView\"},{\"attributes\":{},\"id\":\"16102\",\"type\":\"BasicTickFormatter\"},{\"attributes\":{\"text\":\"\"},\"id\":\"16100\",\"type\":\"Title\"},{\"attributes\":{\"bottom_units\":\"screen\",\"fill_alpha\":{\"value\":0.5},\"fill_color\":{\"value\":\"lightgrey\"},\"left_units\":\"screen\",\"level\":\"overlay\",\"line_alpha\":{\"value\":1.0},\"line_color\":{\"value\":\"black\"},\"line_dash\":[4,4],\"line_width\":{\"value\":2},\"render_mode\":\"css\",\"right_units\":\"screen\",\"top_units\":\"screen\"},\"id\":\"16107\",\"type\":\"BoxAnnotation\"},{\"attributes\":{},\"id\":\"16106\",\"type\":\"UnionRenderers\"},{\"attributes\":{},\"id\":\"16105\",\"type\":\"Selection\"},{\"attributes\":{\"below\":[{\"id\":\"15646\",\"type\":\"LinearAxis\"}],\"center\":[{\"id\":\"15650\",\"type\":\"Grid\"},{\"id\":\"15655\",\"type\":\"Grid\"}],\"left\":[{\"id\":\"15651\",\"type\":\"LinearAxis\"}],\"renderers\":[{\"id\":\"15672\",\"type\":\"GlyphRenderer\"}],\"title\":{\"id\":\"16100\",\"type\":\"Title\"},\"toolbar\":{\"id\":\"15662\",\"type\":\"Toolbar\"},\"x_range\":{\"id\":\"15638\",\"type\":\"DataRange1d\"},\"x_scale\":{\"id\":\"15642\",\"type\":\"LinearScale\"},\"y_range\":{\"id\":\"15640\",\"type\":\"DataRange1d\"},\"y_scale\":{\"id\":\"15644\",\"type\":\"LinearScale\"}},\"id\":\"15637\",\"subtype\":\"Figure\",\"type\":\"Plot\"},{\"attributes\":{\"overlay\":{\"id\":\"16107\",\"type\":\"BoxAnnotation\"}},\"id\":\"15658\",\"type\":\"BoxZoomTool\"},{\"attributes\":{},\"id\":\"15659\",\"type\":\"SaveTool\"},{\"attributes\":{},\"id\":\"15656\",\"type\":\"PanTool\"},{\"attributes\":{},\"id\":\"15657\",\"type\":\"WheelZoomTool\"},{\"attributes\":{},\"id\":\"16104\",\"type\":\"BasicTickFormatter\"},{\"attributes\":{},\"id\":\"15652\",\"type\":\"BasicTicker\"},{\"attributes\":{\"ticker\":{\"id\":\"15647\",\"type\":\"BasicTicker\"}},\"id\":\"15650\",\"type\":\"Grid\"},{\"attributes\":{\"formatter\":{\"id\":\"16104\",\"type\":\"BasicTickFormatter\"},\"ticker\":{\"id\":\"15652\",\"type\":\"BasicTicker\"}},\"id\":\"15651\",\"type\":\"LinearAxis\"}],\"root_ids\":[\"15637\"]},\"title\":\"Bokeh Application\",\"version\":\"1.4.0\"}};\n",
       "  var render_items = [{\"docid\":\"c5c478b4-3321-4c42-94bf-27a23385e11c\",\"roots\":{\"15637\":\"8bf58370-e5b9-4675-adce-10d476729e7c\"}}];\n",
       "  root.Bokeh.embed.embed_items_notebook(docs_json, render_items);\n",
       "\n",
       "  }\n",
       "  if (root.Bokeh !== undefined) {\n",
       "    embed_document(root);\n",
       "  } else {\n",
       "    var attempts = 0;\n",
       "    var timer = setInterval(function(root) {\n",
       "      if (root.Bokeh !== undefined) {\n",
       "        clearInterval(timer);\n",
       "        embed_document(root);\n",
       "      } else {\n",
       "        attempts++;\n",
       "        if (attempts > 100) {\n",
       "          clearInterval(timer);\n",
       "          console.log(\"Bokeh: ERROR: Unable to run BokehJS code because BokehJS library is missing\");\n",
       "        }\n",
       "      }\n",
       "    }, 10, root)\n",
       "  }\n",
       "})(window);"
      ],
      "application/vnd.bokehjs_exec.v0+json": ""
     },
     "metadata": {
      "application/vnd.bokehjs_exec.v0+json": {
       "id": "15637"
      }
     },
     "output_type": "display_data"
    },
    {
     "data": {
      "text/html": [
       "\n",
       "\n",
       "\n",
       "\n",
       "\n",
       "\n",
       "  <div class=\"bk-root\" id=\"d4e12327-5b8c-45fa-989c-7fa8d78f4d32\" data-root-id=\"16162\"></div>\n"
      ]
     },
     "metadata": {},
     "output_type": "display_data"
    },
    {
     "data": {
      "application/javascript": [
       "(function(root) {\n",
       "  function embed_document(root) {\n",
       "    \n",
       "  var docs_json = {\"39d1a171-0937-4c54-9fda-37dc8192d0be\":{\"roots\":{\"references\":[{\"attributes\":{},\"id\":\"16640\",\"type\":\"UnionRenderers\"},{\"attributes\":{\"bottom_units\":\"screen\",\"fill_alpha\":{\"value\":0.5},\"fill_color\":{\"value\":\"lightgrey\"},\"left_units\":\"screen\",\"level\":\"overlay\",\"line_alpha\":{\"value\":1.0},\"line_color\":{\"value\":\"black\"},\"line_dash\":[4,4],\"line_width\":{\"value\":2},\"render_mode\":\"css\",\"right_units\":\"screen\",\"top_units\":\"screen\"},\"id\":\"16641\",\"type\":\"BoxAnnotation\"},{\"attributes\":{\"source\":{\"id\":\"16194\",\"type\":\"ColumnDataSource\"}},\"id\":\"16198\",\"type\":\"CDSView\"},{\"attributes\":{\"callback\":null,\"data\":{\"top\":{\"__ndarray__\":\"6wV+lTKhNUCQ1Fui3JZGQDfQLcKEQDlASvwiZEOI/j/+Q2m1LCAYQA==\",\"dtype\":\"float64\",\"shape\":[5]},\"x\":[1,2,3,4,5]},\"selected\":{\"id\":\"16639\",\"type\":\"Selection\"},\"selection_policy\":{\"id\":\"16640\",\"type\":\"UnionRenderers\"}},\"id\":\"16194\",\"type\":\"ColumnDataSource\"},{\"attributes\":{\"fill_color\":{\"value\":\"#1f77b4\"},\"line_color\":{\"value\":\"#1f77b4\"},\"top\":{\"field\":\"top\"},\"width\":{\"value\":0.5},\"x\":{\"field\":\"x\"}},\"id\":\"16195\",\"type\":\"VBar\"},{\"attributes\":{\"fill_alpha\":{\"value\":0.1},\"fill_color\":{\"value\":\"#1f77b4\"},\"line_alpha\":{\"value\":0.1},\"line_color\":{\"value\":\"#1f77b4\"},\"top\":{\"field\":\"top\"},\"width\":{\"value\":0.5},\"x\":{\"field\":\"x\"}},\"id\":\"16196\",\"type\":\"VBar\"},{\"attributes\":{\"data_source\":{\"id\":\"16194\",\"type\":\"ColumnDataSource\"},\"glyph\":{\"id\":\"16195\",\"type\":\"VBar\"},\"hover_glyph\":null,\"muted_glyph\":null,\"nonselection_glyph\":{\"id\":\"16196\",\"type\":\"VBar\"},\"selection_glyph\":null,\"view\":{\"id\":\"16198\",\"type\":\"CDSView\"}},\"id\":\"16197\",\"type\":\"GlyphRenderer\"},{\"attributes\":{\"callback\":null},\"id\":\"16163\",\"type\":\"DataRange1d\"},{\"attributes\":{\"below\":[{\"id\":\"16171\",\"type\":\"LinearAxis\"}],\"center\":[{\"id\":\"16175\",\"type\":\"Grid\"},{\"id\":\"16180\",\"type\":\"Grid\"}],\"left\":[{\"id\":\"16176\",\"type\":\"LinearAxis\"}],\"renderers\":[{\"id\":\"16197\",\"type\":\"GlyphRenderer\"}],\"title\":{\"id\":\"16634\",\"type\":\"Title\"},\"toolbar\":{\"id\":\"16187\",\"type\":\"Toolbar\"},\"x_range\":{\"id\":\"16163\",\"type\":\"DataRange1d\"},\"x_scale\":{\"id\":\"16167\",\"type\":\"LinearScale\"},\"y_range\":{\"id\":\"16165\",\"type\":\"DataRange1d\"},\"y_scale\":{\"id\":\"16169\",\"type\":\"LinearScale\"}},\"id\":\"16162\",\"subtype\":\"Figure\",\"type\":\"Plot\"},{\"attributes\":{\"callback\":null},\"id\":\"16165\",\"type\":\"DataRange1d\"},{\"attributes\":{},\"id\":\"16167\",\"type\":\"LinearScale\"},{\"attributes\":{},\"id\":\"16169\",\"type\":\"LinearScale\"},{\"attributes\":{\"overlay\":{\"id\":\"16641\",\"type\":\"BoxAnnotation\"}},\"id\":\"16183\",\"type\":\"BoxZoomTool\"},{\"attributes\":{},\"id\":\"16182\",\"type\":\"WheelZoomTool\"},{\"attributes\":{},\"id\":\"16181\",\"type\":\"PanTool\"},{\"attributes\":{\"dimension\":1,\"ticker\":{\"id\":\"16177\",\"type\":\"BasicTicker\"}},\"id\":\"16180\",\"type\":\"Grid\"},{\"attributes\":{\"active_drag\":\"auto\",\"active_inspect\":\"auto\",\"active_multi\":null,\"active_scroll\":\"auto\",\"active_tap\":\"auto\",\"tools\":[{\"id\":\"16181\",\"type\":\"PanTool\"},{\"id\":\"16182\",\"type\":\"WheelZoomTool\"},{\"id\":\"16183\",\"type\":\"BoxZoomTool\"},{\"id\":\"16184\",\"type\":\"SaveTool\"},{\"id\":\"16185\",\"type\":\"ResetTool\"},{\"id\":\"16186\",\"type\":\"HelpTool\"}]},\"id\":\"16187\",\"type\":\"Toolbar\"},{\"attributes\":{},\"id\":\"16638\",\"type\":\"BasicTickFormatter\"},{\"attributes\":{},\"id\":\"16185\",\"type\":\"ResetTool\"},{\"attributes\":{},\"id\":\"16184\",\"type\":\"SaveTool\"},{\"attributes\":{\"text\":\"\"},\"id\":\"16634\",\"type\":\"Title\"},{\"attributes\":{},\"id\":\"16636\",\"type\":\"BasicTickFormatter\"},{\"attributes\":{},\"id\":\"16172\",\"type\":\"BasicTicker\"},{\"attributes\":{\"formatter\":{\"id\":\"16636\",\"type\":\"BasicTickFormatter\"},\"ticker\":{\"id\":\"16172\",\"type\":\"BasicTicker\"}},\"id\":\"16171\",\"type\":\"LinearAxis\"},{\"attributes\":{\"formatter\":{\"id\":\"16638\",\"type\":\"BasicTickFormatter\"},\"ticker\":{\"id\":\"16177\",\"type\":\"BasicTicker\"}},\"id\":\"16176\",\"type\":\"LinearAxis\"},{\"attributes\":{},\"id\":\"16177\",\"type\":\"BasicTicker\"},{\"attributes\":{\"ticker\":{\"id\":\"16172\",\"type\":\"BasicTicker\"}},\"id\":\"16175\",\"type\":\"Grid\"},{\"attributes\":{},\"id\":\"16639\",\"type\":\"Selection\"},{\"attributes\":{},\"id\":\"16186\",\"type\":\"HelpTool\"}],\"root_ids\":[\"16162\"]},\"title\":\"Bokeh Application\",\"version\":\"1.4.0\"}};\n",
       "  var render_items = [{\"docid\":\"39d1a171-0937-4c54-9fda-37dc8192d0be\",\"roots\":{\"16162\":\"d4e12327-5b8c-45fa-989c-7fa8d78f4d32\"}}];\n",
       "  root.Bokeh.embed.embed_items_notebook(docs_json, render_items);\n",
       "\n",
       "  }\n",
       "  if (root.Bokeh !== undefined) {\n",
       "    embed_document(root);\n",
       "  } else {\n",
       "    var attempts = 0;\n",
       "    var timer = setInterval(function(root) {\n",
       "      if (root.Bokeh !== undefined) {\n",
       "        clearInterval(timer);\n",
       "        embed_document(root);\n",
       "      } else {\n",
       "        attempts++;\n",
       "        if (attempts > 100) {\n",
       "          clearInterval(timer);\n",
       "          console.log(\"Bokeh: ERROR: Unable to run BokehJS code because BokehJS library is missing\");\n",
       "        }\n",
       "      }\n",
       "    }, 10, root)\n",
       "  }\n",
       "})(window);"
      ],
      "application/vnd.bokehjs_exec.v0+json": ""
     },
     "metadata": {
      "application/vnd.bokehjs_exec.v0+json": {
       "id": "16162"
      }
     },
     "output_type": "display_data"
    },
    {
     "data": {
      "text/html": [
       "\n",
       "\n",
       "\n",
       "\n",
       "\n",
       "\n",
       "  <div class=\"bk-root\" id=\"5dace1b8-d6c9-4a57-a914-f837034d6ab7\" data-root-id=\"16696\"></div>\n"
      ]
     },
     "metadata": {},
     "output_type": "display_data"
    },
    {
     "data": {
      "application/javascript": [
       "(function(root) {\n",
       "  function embed_document(root) {\n",
       "    \n",
       "  var docs_json = {\"053bba1e-ac3f-4d49-8440-a474949d8f19\":{\"roots\":{\"references\":[{\"attributes\":{\"fill_color\":{\"value\":\"#1f77b4\"},\"line_color\":{\"value\":\"#1f77b4\"},\"top\":{\"field\":\"top\"},\"width\":{\"value\":0.5},\"x\":{\"field\":\"x\"}},\"id\":\"16729\",\"type\":\"VBar\"},{\"attributes\":{\"callback\":null,\"data\":{\"top\":{\"__ndarray__\":\"GLRyMEOUPUA0n1a3C6M5QFpWG4xYZEZA\",\"dtype\":\"float64\",\"shape\":[3]},\"x\":[1,2,3]},\"selected\":{\"id\":\"17182\",\"type\":\"Selection\"},\"selection_policy\":{\"id\":\"17183\",\"type\":\"UnionRenderers\"}},\"id\":\"16728\",\"type\":\"ColumnDataSource\"},{\"attributes\":{\"ticker\":{\"id\":\"16706\",\"type\":\"BasicTicker\"}},\"id\":\"16709\",\"type\":\"Grid\"},{\"attributes\":{\"formatter\":{\"id\":\"17179\",\"type\":\"BasicTickFormatter\"},\"ticker\":{\"id\":\"16706\",\"type\":\"BasicTicker\"}},\"id\":\"16705\",\"type\":\"LinearAxis\"},{\"attributes\":{\"active_drag\":\"auto\",\"active_inspect\":\"auto\",\"active_multi\":null,\"active_scroll\":\"auto\",\"active_tap\":\"auto\",\"tools\":[{\"id\":\"16715\",\"type\":\"PanTool\"},{\"id\":\"16716\",\"type\":\"WheelZoomTool\"},{\"id\":\"16717\",\"type\":\"BoxZoomTool\"},{\"id\":\"16718\",\"type\":\"SaveTool\"},{\"id\":\"16719\",\"type\":\"ResetTool\"},{\"id\":\"16720\",\"type\":\"HelpTool\"}]},\"id\":\"16721\",\"type\":\"Toolbar\"},{\"attributes\":{},\"id\":\"16720\",\"type\":\"HelpTool\"},{\"attributes\":{},\"id\":\"16701\",\"type\":\"LinearScale\"},{\"attributes\":{},\"id\":\"16703\",\"type\":\"LinearScale\"},{\"attributes\":{},\"id\":\"16706\",\"type\":\"BasicTicker\"},{\"attributes\":{\"fill_alpha\":{\"value\":0.1},\"fill_color\":{\"value\":\"#1f77b4\"},\"line_alpha\":{\"value\":0.1},\"line_color\":{\"value\":\"#1f77b4\"},\"top\":{\"field\":\"top\"},\"width\":{\"value\":0.5},\"x\":{\"field\":\"x\"}},\"id\":\"16730\",\"type\":\"VBar\"},{\"attributes\":{\"data_source\":{\"id\":\"16728\",\"type\":\"ColumnDataSource\"},\"glyph\":{\"id\":\"16729\",\"type\":\"VBar\"},\"hover_glyph\":null,\"muted_glyph\":null,\"nonselection_glyph\":{\"id\":\"16730\",\"type\":\"VBar\"},\"selection_glyph\":null,\"view\":{\"id\":\"16732\",\"type\":\"CDSView\"}},\"id\":\"16731\",\"type\":\"GlyphRenderer\"},{\"attributes\":{\"source\":{\"id\":\"16728\",\"type\":\"ColumnDataSource\"}},\"id\":\"16732\",\"type\":\"CDSView\"},{\"attributes\":{\"text\":\"\"},\"id\":\"17177\",\"type\":\"Title\"},{\"attributes\":{},\"id\":\"16718\",\"type\":\"SaveTool\"},{\"attributes\":{},\"id\":\"16719\",\"type\":\"ResetTool\"},{\"attributes\":{},\"id\":\"16716\",\"type\":\"WheelZoomTool\"},{\"attributes\":{\"overlay\":{\"id\":\"17184\",\"type\":\"BoxAnnotation\"}},\"id\":\"16717\",\"type\":\"BoxZoomTool\"},{\"attributes\":{\"dimension\":1,\"ticker\":{\"id\":\"16711\",\"type\":\"BasicTicker\"}},\"id\":\"16714\",\"type\":\"Grid\"},{\"attributes\":{},\"id\":\"16715\",\"type\":\"PanTool\"},{\"attributes\":{},\"id\":\"17179\",\"type\":\"BasicTickFormatter\"},{\"attributes\":{\"formatter\":{\"id\":\"17181\",\"type\":\"BasicTickFormatter\"},\"ticker\":{\"id\":\"16711\",\"type\":\"BasicTicker\"}},\"id\":\"16710\",\"type\":\"LinearAxis\"},{\"attributes\":{},\"id\":\"16711\",\"type\":\"BasicTicker\"},{\"attributes\":{\"callback\":null},\"id\":\"16697\",\"type\":\"DataRange1d\"},{\"attributes\":{\"below\":[{\"id\":\"16705\",\"type\":\"LinearAxis\"}],\"center\":[{\"id\":\"16709\",\"type\":\"Grid\"},{\"id\":\"16714\",\"type\":\"Grid\"}],\"left\":[{\"id\":\"16710\",\"type\":\"LinearAxis\"}],\"renderers\":[{\"id\":\"16731\",\"type\":\"GlyphRenderer\"}],\"title\":{\"id\":\"17177\",\"type\":\"Title\"},\"toolbar\":{\"id\":\"16721\",\"type\":\"Toolbar\"},\"x_range\":{\"id\":\"16697\",\"type\":\"DataRange1d\"},\"x_scale\":{\"id\":\"16701\",\"type\":\"LinearScale\"},\"y_range\":{\"id\":\"16699\",\"type\":\"DataRange1d\"},\"y_scale\":{\"id\":\"16703\",\"type\":\"LinearScale\"}},\"id\":\"16696\",\"subtype\":\"Figure\",\"type\":\"Plot\"},{\"attributes\":{\"callback\":null},\"id\":\"16699\",\"type\":\"DataRange1d\"},{\"attributes\":{},\"id\":\"17181\",\"type\":\"BasicTickFormatter\"},{\"attributes\":{},\"id\":\"17182\",\"type\":\"Selection\"},{\"attributes\":{},\"id\":\"17183\",\"type\":\"UnionRenderers\"},{\"attributes\":{\"bottom_units\":\"screen\",\"fill_alpha\":{\"value\":0.5},\"fill_color\":{\"value\":\"lightgrey\"},\"left_units\":\"screen\",\"level\":\"overlay\",\"line_alpha\":{\"value\":1.0},\"line_color\":{\"value\":\"black\"},\"line_dash\":[4,4],\"line_width\":{\"value\":2},\"render_mode\":\"css\",\"right_units\":\"screen\",\"top_units\":\"screen\"},\"id\":\"17184\",\"type\":\"BoxAnnotation\"}],\"root_ids\":[\"16696\"]},\"title\":\"Bokeh Application\",\"version\":\"1.4.0\"}};\n",
       "  var render_items = [{\"docid\":\"053bba1e-ac3f-4d49-8440-a474949d8f19\",\"roots\":{\"16696\":\"5dace1b8-d6c9-4a57-a914-f837034d6ab7\"}}];\n",
       "  root.Bokeh.embed.embed_items_notebook(docs_json, render_items);\n",
       "\n",
       "  }\n",
       "  if (root.Bokeh !== undefined) {\n",
       "    embed_document(root);\n",
       "  } else {\n",
       "    var attempts = 0;\n",
       "    var timer = setInterval(function(root) {\n",
       "      if (root.Bokeh !== undefined) {\n",
       "        clearInterval(timer);\n",
       "        embed_document(root);\n",
       "      } else {\n",
       "        attempts++;\n",
       "        if (attempts > 100) {\n",
       "          clearInterval(timer);\n",
       "          console.log(\"Bokeh: ERROR: Unable to run BokehJS code because BokehJS library is missing\");\n",
       "        }\n",
       "      }\n",
       "    }, 10, root)\n",
       "  }\n",
       "})(window);"
      ],
      "application/vnd.bokehjs_exec.v0+json": ""
     },
     "metadata": {
      "application/vnd.bokehjs_exec.v0+json": {
       "id": "16696"
      }
     },
     "output_type": "display_data"
    },
    {
     "data": {
      "text/html": [
       "\n",
       "\n",
       "\n",
       "\n",
       "\n",
       "\n",
       "  <div class=\"bk-root\" id=\"2d889668-65e3-44d5-8945-b2cf0655a955\" data-root-id=\"17239\"></div>\n"
      ]
     },
     "metadata": {},
     "output_type": "display_data"
    },
    {
     "data": {
      "application/javascript": [
       "(function(root) {\n",
       "  function embed_document(root) {\n",
       "    \n",
       "  var docs_json = {\"0551adde-fc60-4e6f-bfd6-01344218f074\":{\"roots\":{\"references\":[{\"attributes\":{\"text\":\"\"},\"id\":\"17729\",\"type\":\"Title\"},{\"attributes\":{\"fill_color\":{\"value\":\"#1f77b4\"},\"line_color\":{\"value\":\"#1f77b4\"},\"top\":{\"field\":\"top\"},\"width\":{\"value\":0.5},\"x\":{\"field\":\"x\"}},\"id\":\"17272\",\"type\":\"VBar\"},{\"attributes\":{\"fill_alpha\":{\"value\":0.1},\"fill_color\":{\"value\":\"#1f77b4\"},\"line_alpha\":{\"value\":0.1},\"line_color\":{\"value\":\"#1f77b4\"},\"top\":{\"field\":\"top\"},\"width\":{\"value\":0.5},\"x\":{\"field\":\"x\"}},\"id\":\"17273\",\"type\":\"VBar\"},{\"attributes\":{},\"id\":\"17258\",\"type\":\"PanTool\"},{\"attributes\":{},\"id\":\"17259\",\"type\":\"WheelZoomTool\"},{\"attributes\":{\"callback\":null,\"data\":{\"top\":{\"__ndarray__\":\"MlFh/7RsN0AlZ8DwyrtFQNwRcPhsgTpApFjlZqLCDkCjHInOng8GQA==\",\"dtype\":\"float64\",\"shape\":[5]},\"x\":[1,2,3,4,5]},\"selected\":{\"id\":\"17734\",\"type\":\"Selection\"},\"selection_policy\":{\"id\":\"17735\",\"type\":\"UnionRenderers\"}},\"id\":\"17271\",\"type\":\"ColumnDataSource\"},{\"attributes\":{\"data_source\":{\"id\":\"17271\",\"type\":\"ColumnDataSource\"},\"glyph\":{\"id\":\"17272\",\"type\":\"VBar\"},\"hover_glyph\":null,\"muted_glyph\":null,\"nonselection_glyph\":{\"id\":\"17273\",\"type\":\"VBar\"},\"selection_glyph\":null,\"view\":{\"id\":\"17275\",\"type\":\"CDSView\"}},\"id\":\"17274\",\"type\":\"GlyphRenderer\"},{\"attributes\":{\"source\":{\"id\":\"17271\",\"type\":\"ColumnDataSource\"}},\"id\":\"17275\",\"type\":\"CDSView\"},{\"attributes\":{\"ticker\":{\"id\":\"17249\",\"type\":\"BasicTicker\"}},\"id\":\"17252\",\"type\":\"Grid\"},{\"attributes\":{\"formatter\":{\"id\":\"17733\",\"type\":\"BasicTickFormatter\"},\"ticker\":{\"id\":\"17254\",\"type\":\"BasicTicker\"}},\"id\":\"17253\",\"type\":\"LinearAxis\"},{\"attributes\":{},\"id\":\"17254\",\"type\":\"BasicTicker\"},{\"attributes\":{\"dimension\":1,\"ticker\":{\"id\":\"17254\",\"type\":\"BasicTicker\"}},\"id\":\"17257\",\"type\":\"Grid\"},{\"attributes\":{\"below\":[{\"id\":\"17248\",\"type\":\"LinearAxis\"}],\"center\":[{\"id\":\"17252\",\"type\":\"Grid\"},{\"id\":\"17257\",\"type\":\"Grid\"}],\"left\":[{\"id\":\"17253\",\"type\":\"LinearAxis\"}],\"renderers\":[{\"id\":\"17274\",\"type\":\"GlyphRenderer\"}],\"title\":{\"id\":\"17729\",\"type\":\"Title\"},\"toolbar\":{\"id\":\"17264\",\"type\":\"Toolbar\"},\"x_range\":{\"id\":\"17240\",\"type\":\"DataRange1d\"},\"x_scale\":{\"id\":\"17244\",\"type\":\"LinearScale\"},\"y_range\":{\"id\":\"17242\",\"type\":\"DataRange1d\"},\"y_scale\":{\"id\":\"17246\",\"type\":\"LinearScale\"}},\"id\":\"17239\",\"subtype\":\"Figure\",\"type\":\"Plot\"},{\"attributes\":{},\"id\":\"17733\",\"type\":\"BasicTickFormatter\"},{\"attributes\":{},\"id\":\"17731\",\"type\":\"BasicTickFormatter\"},{\"attributes\":{\"bottom_units\":\"screen\",\"fill_alpha\":{\"value\":0.5},\"fill_color\":{\"value\":\"lightgrey\"},\"left_units\":\"screen\",\"level\":\"overlay\",\"line_alpha\":{\"value\":1.0},\"line_color\":{\"value\":\"black\"},\"line_dash\":[4,4],\"line_width\":{\"value\":2},\"render_mode\":\"css\",\"right_units\":\"screen\",\"top_units\":\"screen\"},\"id\":\"17736\",\"type\":\"BoxAnnotation\"},{\"attributes\":{},\"id\":\"17735\",\"type\":\"UnionRenderers\"},{\"attributes\":{},\"id\":\"17734\",\"type\":\"Selection\"},{\"attributes\":{},\"id\":\"17261\",\"type\":\"SaveTool\"},{\"attributes\":{\"overlay\":{\"id\":\"17736\",\"type\":\"BoxAnnotation\"}},\"id\":\"17260\",\"type\":\"BoxZoomTool\"},{\"attributes\":{},\"id\":\"17263\",\"type\":\"HelpTool\"},{\"attributes\":{},\"id\":\"17262\",\"type\":\"ResetTool\"},{\"attributes\":{\"active_drag\":\"auto\",\"active_inspect\":\"auto\",\"active_multi\":null,\"active_scroll\":\"auto\",\"active_tap\":\"auto\",\"tools\":[{\"id\":\"17258\",\"type\":\"PanTool\"},{\"id\":\"17259\",\"type\":\"WheelZoomTool\"},{\"id\":\"17260\",\"type\":\"BoxZoomTool\"},{\"id\":\"17261\",\"type\":\"SaveTool\"},{\"id\":\"17262\",\"type\":\"ResetTool\"},{\"id\":\"17263\",\"type\":\"HelpTool\"}]},\"id\":\"17264\",\"type\":\"Toolbar\"},{\"attributes\":{},\"id\":\"17249\",\"type\":\"BasicTicker\"},{\"attributes\":{\"formatter\":{\"id\":\"17731\",\"type\":\"BasicTickFormatter\"},\"ticker\":{\"id\":\"17249\",\"type\":\"BasicTicker\"}},\"id\":\"17248\",\"type\":\"LinearAxis\"},{\"attributes\":{},\"id\":\"17246\",\"type\":\"LinearScale\"},{\"attributes\":{},\"id\":\"17244\",\"type\":\"LinearScale\"},{\"attributes\":{\"callback\":null},\"id\":\"17242\",\"type\":\"DataRange1d\"},{\"attributes\":{\"callback\":null},\"id\":\"17240\",\"type\":\"DataRange1d\"}],\"root_ids\":[\"17239\"]},\"title\":\"Bokeh Application\",\"version\":\"1.4.0\"}};\n",
       "  var render_items = [{\"docid\":\"0551adde-fc60-4e6f-bfd6-01344218f074\",\"roots\":{\"17239\":\"2d889668-65e3-44d5-8945-b2cf0655a955\"}}];\n",
       "  root.Bokeh.embed.embed_items_notebook(docs_json, render_items);\n",
       "\n",
       "  }\n",
       "  if (root.Bokeh !== undefined) {\n",
       "    embed_document(root);\n",
       "  } else {\n",
       "    var attempts = 0;\n",
       "    var timer = setInterval(function(root) {\n",
       "      if (root.Bokeh !== undefined) {\n",
       "        clearInterval(timer);\n",
       "        embed_document(root);\n",
       "      } else {\n",
       "        attempts++;\n",
       "        if (attempts > 100) {\n",
       "          clearInterval(timer);\n",
       "          console.log(\"Bokeh: ERROR: Unable to run BokehJS code because BokehJS library is missing\");\n",
       "        }\n",
       "      }\n",
       "    }, 10, root)\n",
       "  }\n",
       "})(window);"
      ],
      "application/vnd.bokehjs_exec.v0+json": ""
     },
     "metadata": {
      "application/vnd.bokehjs_exec.v0+json": {
       "id": "17239"
      }
     },
     "output_type": "display_data"
    },
    {
     "data": {
      "text/html": [
       "\n",
       "\n",
       "\n",
       "\n",
       "\n",
       "\n",
       "  <div class=\"bk-root\" id=\"34ff0e0e-e7e0-4405-ba01-4c2385eed1ad\" data-root-id=\"17791\"></div>\n"
      ]
     },
     "metadata": {},
     "output_type": "display_data"
    },
    {
     "data": {
      "application/javascript": [
       "(function(root) {\n",
       "  function embed_document(root) {\n",
       "    \n",
       "  var docs_json = {\"e70c2a5c-43a7-4468-9307-be0212a97b95\":{\"roots\":{\"references\":[{\"attributes\":{},\"id\":\"18292\",\"type\":\"BasicTickFormatter\"},{\"attributes\":{},\"id\":\"17801\",\"type\":\"BasicTicker\"},{\"attributes\":{},\"id\":\"18294\",\"type\":\"BasicTickFormatter\"},{\"attributes\":{\"bottom_units\":\"screen\",\"fill_alpha\":{\"value\":0.5},\"fill_color\":{\"value\":\"lightgrey\"},\"left_units\":\"screen\",\"level\":\"overlay\",\"line_alpha\":{\"value\":1.0},\"line_color\":{\"value\":\"black\"},\"line_dash\":[4,4],\"line_width\":{\"value\":2},\"render_mode\":\"css\",\"right_units\":\"screen\",\"top_units\":\"screen\"},\"id\":\"18297\",\"type\":\"BoxAnnotation\"},{\"attributes\":{},\"id\":\"18296\",\"type\":\"UnionRenderers\"},{\"attributes\":{\"formatter\":{\"id\":\"18294\",\"type\":\"BasicTickFormatter\"},\"ticker\":{\"id\":\"17806\",\"type\":\"BasicTicker\"}},\"id\":\"17805\",\"type\":\"LinearAxis\"},{\"attributes\":{\"text\":\"\"},\"id\":\"18290\",\"type\":\"Title\"},{\"attributes\":{},\"id\":\"17806\",\"type\":\"BasicTicker\"},{\"attributes\":{\"source\":{\"id\":\"17823\",\"type\":\"ColumnDataSource\"}},\"id\":\"17827\",\"type\":\"CDSView\"},{\"attributes\":{\"data_source\":{\"id\":\"17823\",\"type\":\"ColumnDataSource\"},\"glyph\":{\"id\":\"17824\",\"type\":\"VBar\"},\"hover_glyph\":null,\"muted_glyph\":null,\"nonselection_glyph\":{\"id\":\"17825\",\"type\":\"VBar\"},\"selection_glyph\":null,\"view\":{\"id\":\"17827\",\"type\":\"CDSView\"}},\"id\":\"17826\",\"type\":\"GlyphRenderer\"},{\"attributes\":{\"fill_alpha\":{\"value\":0.1},\"fill_color\":{\"value\":\"#1f77b4\"},\"line_alpha\":{\"value\":0.1},\"line_color\":{\"value\":\"#1f77b4\"},\"top\":{\"field\":\"top\"},\"width\":{\"value\":0.5},\"x\":{\"field\":\"x\"}},\"id\":\"17825\",\"type\":\"VBar\"},{\"attributes\":{\"fill_color\":{\"value\":\"#1f77b4\"},\"line_color\":{\"value\":\"#1f77b4\"},\"top\":{\"field\":\"top\"},\"width\":{\"value\":0.5},\"x\":{\"field\":\"x\"}},\"id\":\"17824\",\"type\":\"VBar\"},{\"attributes\":{\"callback\":null,\"data\":{\"top\":{\"__ndarray__\":\"OkzZxzKIJkAe5A3o4ONMQCT218B0HzRACTc/FmCpJUA=\",\"dtype\":\"float64\",\"shape\":[4]},\"x\":[1,2,3,5]},\"selected\":{\"id\":\"18295\",\"type\":\"Selection\"},\"selection_policy\":{\"id\":\"18296\",\"type\":\"UnionRenderers\"}},\"id\":\"17823\",\"type\":\"ColumnDataSource\"},{\"attributes\":{\"dimension\":1,\"ticker\":{\"id\":\"17806\",\"type\":\"BasicTicker\"}},\"id\":\"17809\",\"type\":\"Grid\"},{\"attributes\":{},\"id\":\"17798\",\"type\":\"LinearScale\"},{\"attributes\":{\"callback\":null},\"id\":\"17794\",\"type\":\"DataRange1d\"},{\"attributes\":{},\"id\":\"17796\",\"type\":\"LinearScale\"},{\"attributes\":{\"below\":[{\"id\":\"17800\",\"type\":\"LinearAxis\"}],\"center\":[{\"id\":\"17804\",\"type\":\"Grid\"},{\"id\":\"17809\",\"type\":\"Grid\"}],\"left\":[{\"id\":\"17805\",\"type\":\"LinearAxis\"}],\"renderers\":[{\"id\":\"17826\",\"type\":\"GlyphRenderer\"}],\"title\":{\"id\":\"18290\",\"type\":\"Title\"},\"toolbar\":{\"id\":\"17816\",\"type\":\"Toolbar\"},\"x_range\":{\"id\":\"17792\",\"type\":\"DataRange1d\"},\"x_scale\":{\"id\":\"17796\",\"type\":\"LinearScale\"},\"y_range\":{\"id\":\"17794\",\"type\":\"DataRange1d\"},\"y_scale\":{\"id\":\"17798\",\"type\":\"LinearScale\"}},\"id\":\"17791\",\"subtype\":\"Figure\",\"type\":\"Plot\"},{\"attributes\":{\"callback\":null},\"id\":\"17792\",\"type\":\"DataRange1d\"},{\"attributes\":{\"overlay\":{\"id\":\"18297\",\"type\":\"BoxAnnotation\"}},\"id\":\"17812\",\"type\":\"BoxZoomTool\"},{\"attributes\":{},\"id\":\"17813\",\"type\":\"SaveTool\"},{\"attributes\":{},\"id\":\"17810\",\"type\":\"PanTool\"},{\"attributes\":{},\"id\":\"17811\",\"type\":\"WheelZoomTool\"},{\"attributes\":{\"active_drag\":\"auto\",\"active_inspect\":\"auto\",\"active_multi\":null,\"active_scroll\":\"auto\",\"active_tap\":\"auto\",\"tools\":[{\"id\":\"17810\",\"type\":\"PanTool\"},{\"id\":\"17811\",\"type\":\"WheelZoomTool\"},{\"id\":\"17812\",\"type\":\"BoxZoomTool\"},{\"id\":\"17813\",\"type\":\"SaveTool\"},{\"id\":\"17814\",\"type\":\"ResetTool\"},{\"id\":\"17815\",\"type\":\"HelpTool\"}]},\"id\":\"17816\",\"type\":\"Toolbar\"},{\"attributes\":{},\"id\":\"17814\",\"type\":\"ResetTool\"},{\"attributes\":{},\"id\":\"17815\",\"type\":\"HelpTool\"},{\"attributes\":{},\"id\":\"18295\",\"type\":\"Selection\"},{\"attributes\":{\"formatter\":{\"id\":\"18292\",\"type\":\"BasicTickFormatter\"},\"ticker\":{\"id\":\"17801\",\"type\":\"BasicTicker\"}},\"id\":\"17800\",\"type\":\"LinearAxis\"},{\"attributes\":{\"ticker\":{\"id\":\"17801\",\"type\":\"BasicTicker\"}},\"id\":\"17804\",\"type\":\"Grid\"}],\"root_ids\":[\"17791\"]},\"title\":\"Bokeh Application\",\"version\":\"1.4.0\"}};\n",
       "  var render_items = [{\"docid\":\"e70c2a5c-43a7-4468-9307-be0212a97b95\",\"roots\":{\"17791\":\"34ff0e0e-e7e0-4405-ba01-4c2385eed1ad\"}}];\n",
       "  root.Bokeh.embed.embed_items_notebook(docs_json, render_items);\n",
       "\n",
       "  }\n",
       "  if (root.Bokeh !== undefined) {\n",
       "    embed_document(root);\n",
       "  } else {\n",
       "    var attempts = 0;\n",
       "    var timer = setInterval(function(root) {\n",
       "      if (root.Bokeh !== undefined) {\n",
       "        clearInterval(timer);\n",
       "        embed_document(root);\n",
       "      } else {\n",
       "        attempts++;\n",
       "        if (attempts > 100) {\n",
       "          clearInterval(timer);\n",
       "          console.log(\"Bokeh: ERROR: Unable to run BokehJS code because BokehJS library is missing\");\n",
       "        }\n",
       "      }\n",
       "    }, 10, root)\n",
       "  }\n",
       "})(window);"
      ],
      "application/vnd.bokehjs_exec.v0+json": ""
     },
     "metadata": {
      "application/vnd.bokehjs_exec.v0+json": {
       "id": "17791"
      }
     },
     "output_type": "display_data"
    }
   ],
   "source": [
    "#se obtiene el df para la pregunta 27 y se grafica la opinion para cada grado academico\n",
    "p27p = pregmnivel('S4P27_1',5)\n",
    "for i in range(1,11):\n",
    "    p27p = pregmnivel('S4P27_1',i)\n",
    "    p = bpl.figure()\n",
    "    p.vbar(x=p27p['S4P27_1'],top=p27p['pFAC'],bottom=0,width=0.5)\n",
    "    bpl.show(p)"
   ]
  },
  {
   "cell_type": "code",
   "execution_count": null,
   "metadata": {},
   "outputs": [],
   "source": []
  }
 ],
 "metadata": {
  "kernelspec": {
   "display_name": "Python 3",
   "language": "python",
   "name": "python3"
  },
  "language_info": {
   "codemirror_mode": {
    "name": "ipython",
    "version": 2
   },
   "file_extension": ".py",
   "mimetype": "text/x-python",
   "name": "python",
   "nbconvert_exporter": "python",
   "pygments_lexer": "ipython2",
   "version": "2.7.12"
  }
 },
 "nbformat": 4,
 "nbformat_minor": 2
}
